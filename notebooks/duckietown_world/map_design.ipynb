{
 "cells": [
  {
   "cell_type": "code",
   "execution_count": 1,
   "metadata": {
    "pycharm": {
     "name": "#%%\n"
    }
   },
   "outputs": [
    {
     "name": "stderr",
     "output_type": "stream",
     "text": [
      "INFO:geometry:version: 2.0.5\n",
      "INFO:commons:version: 6.1.5\n",
      "INFO:typing:version: 6.1.8\n",
      "DEBUG:duckietown_world:duckietown-world version 6.2.7 path /home/chrigi/Master-Thesis-Code/driving-games/venv/lib/python3.8/site-packages\n"
     ]
    }
   ],
   "source": [
    "import yaml\n",
    "import geometry as geo\n",
    "import networkx as nx\n",
    "import numpy as np\n",
    "from matplotlib import pyplot as plt\n",
    "from math import sqrt\n",
    "\n",
    "import duckietown_world as dw\n",
    "from duckietown_world.svg_drawing.ipython_utils import ipython_draw_html\n",
    "\n",
    "def draw_graph(G0, pos=None):\n",
    "    pos = pos or nx.spring_layout(G0)\n",
    "    plt.figure(figsize=(12, 12))\n",
    "    nx.draw(G0,pos,labels={node:node for node in G0.nodes()})\n",
    "    def edge_label(a, b):\n",
    "        datas = G0.get_edge_data(a, b)\n",
    "        s = '%d edge%s' % (len(datas), 's' if len(datas)>=2 else '')\n",
    "        for k, v in datas.items():\n",
    "            if v:\n",
    "                if 'label' in v:\n",
    "                    s += '\\n %s' % v['label']\n",
    "                else:\n",
    "                    s += '\\n %s' %v\n",
    "        return s\n",
    "    edge_labels = dict([ ((a,b), edge_label(a,b)) for a,b in G0.edges()])\n",
    "    nx.draw_networkx_edge_labels(G0,pos,edge_labels=edge_labels,font_color='red')\n",
    "    plt.axis('off')\n",
    "    plt.show()"
   ]
  },
  {
   "cell_type": "code",
   "execution_count": 2,
   "metadata": {},
   "outputs": [
    {
     "name": "stderr",
     "output_type": "stream",
     "text": [
      "INFO:duckietown_world: \u001B[2mdata\u001B[0m: /home/chrigi/Master-Thesis-Code/driving-games/venv/lib/python3.8/site-packages/duckietown_world/data\n",
      "INFO:duckietown_world: \u001B[2marea\u001B[0m: RectangularArea(pmin=[0. 0.],pmax=[6.908 6.908])\n",
      "DEBUG:commons.fs:Written 0.7MB to: out/ipython_draw_html/140201960664224/drawing.html\n",
      "INFO:duckietown_world:Written SVG\n",
      " \u001B[2mfn_svg\u001B[0m: out/ipython_draw_html/140201960664224/drawing.svg\n"
     ]
    },
    {
     "data": {
      "text/html": [
       "\n",
       "        <iframe\n",
       "            width=\"100%\"\n",
       "            height=\"600\"\n",
       "            src=\"out/ipython_draw_html/140201960664224/drawing.html\"\n",
       "            frameborder=\"0\"\n",
       "            allowfullscreen\n",
       "        ></iframe>\n",
       "        "
      ],
      "text/plain": [
       "<IPython.lib.display.IFrame at 0x7f82ece50d90>"
      ]
     },
     "metadata": {},
     "output_type": "display_data"
    }
   ],
   "source": [
    "map_data_yaml = \"\"\"\n",
    "tile_size: 1\n",
    "\n",
    "tiles:\n",
    "  - [curve_left/W , straight/W, 3way_left/W   , straight/W, 3way_left/W   , straight/W  , curve_left/N]\n",
    "  - [straight/S   , asphalt   , straight/N    , asphalt   , straight/N    , asphalt     ,  straight/N]\n",
    "  - [3way_left/S  , straight/W, 4way          , straight/E, 4way          , straight/E  ,  3way_left/N]\n",
    "  - [straight/S   , asphalt   , straight/S    , asphalt   , straight/S    , asphalt     ,  straight/N]\n",
    "  - [3way_left/S  , straight/W, 4way          , straight/E, 4way          , straight/E  ,  3way_left/N]\n",
    "  - [straight/S   , asphalt   , straight/S    , asphalt   , straight/S    , asphalt     ,  straight/N]\n",
    "  - [curve_left/S , straight/E, 3way_left/E   , straight/E, 3way_left/E   , straight/E  , curve_left/E]\n",
    "\n",
    "\"\"\"\n",
    "\n",
    "map_data = yaml.load(map_data_yaml, Loader=yaml.SafeLoader)\n",
    "\n",
    "m = dw.construct_map(map_data)\n",
    "\n",
    "ipython_draw_html(m);"
   ]
  },
  {
   "cell_type": "code",
   "execution_count": 3,
   "metadata": {},
   "outputs": [
    {
     "name": "stderr",
     "output_type": "stream",
     "text": [
      "INFO:duckietown_world: \u001B[2marea\u001B[0m: RectangularArea(pmin=[0. 0.],pmax=[1. 1.])\n",
      "DEBUG:commons.fs:Written 0.1MB to: out/ipython_draw_html/140200296160080/drawing.html\n",
      "INFO:duckietown_world:Written SVG\n",
      " \u001B[2mfn_svg\u001B[0m: out/ipython_draw_html/140200296160080/drawing.svg\n"
     ]
    },
    {
     "data": {
      "text/html": [
       "\n",
       "        <iframe\n",
       "            width=\"100%\"\n",
       "            height=\"600\"\n",
       "            src=\"out/ipython_draw_html/140200296160080/drawing.html\"\n",
       "            frameborder=\"0\"\n",
       "            allowfullscreen\n",
       "        ></iframe>\n",
       "        "
      ],
      "text/plain": [
       "<IPython.lib.display.IFrame at 0x7f82ecdd7340>"
      ]
     },
     "metadata": {},
     "output_type": "display_data"
    }
   ],
   "source": [
    "map_data_yaml = \"\"\"\n",
    "tile_size: 1\n",
    "\n",
    "tiles:\n",
    "  - [asphalt]\n",
    "\n",
    "\"\"\"\n",
    "\n",
    "map_data = yaml.load(map_data_yaml, Loader=yaml.SafeLoader)\n",
    "\n",
    "m = dw.construct_map(map_data)\n",
    "\n",
    "tile_size=map_data[\"tile_size\"]\n",
    "\n",
    "width_old = 0.376\n",
    "width = width_old / 2\n",
    "\n",
    "width_between_lanes_old = 0.22 * 2 - width_old\n",
    "width_between_lanes = width_between_lanes_old / 2\n",
    "# y1 = -0.365\n",
    "# y2 = -0.115\n",
    "y2 = -(width_between_lanes / 2 + width / 2)\n",
    "y1 = y2 - (width_between_lanes + width)\n",
    "\n",
    "y3, y4 = -y2, -y1\n",
    "\n",
    "x1, x2, x3, x4 = y1, y2, y3, y4\n",
    "\n",
    "half_tile = tile_size / 2\n",
    "\n",
    "# double straight\n",
    "ctr_pts1 = [\n",
    "    dw.SE2Transform([-half_tile, y1], np.deg2rad(0)),\n",
    "    dw.SE2Transform([half_tile, y1], np.deg2rad(0)),\n",
    "]\n",
    "ctr_pts2 = [\n",
    "    dw.SE2Transform([-half_tile, y2], np.deg2rad(0)),\n",
    "    dw.SE2Transform([half_tile, y2], np.deg2rad(0)),\n",
    "\n",
    "]\n",
    "\n",
    "def midpoints(start, end):\n",
    "    x1, y1 = start\n",
    "    x2, y2 = end\n",
    "    \n",
    "    r = x2 - x1\n",
    "    dr = (1-sqrt(2)/2) * r\n",
    "    if y2 > y1:\n",
    "        res = [x2 - dr, y1 + dr]\n",
    "    else:\n",
    "        res = [x2 - dr, y1 - dr]\n",
    "\n",
    "    return [round(_, 3) for _ in res]\n",
    "    \n",
    "    \n",
    "#double left\n",
    "start = [-half_tile, y1]\n",
    "end = [x4, half_tile]\n",
    "middle = midpoints(start, end)\n",
    "ctr_pts3 = [\n",
    "    dw.SE2Transform(start, np.deg2rad(0)),\n",
    "    dw.SE2Transform(middle, np.deg2rad(45)),\n",
    "    dw.SE2Transform(end, np.deg2rad(90)),\n",
    "]\n",
    "\n",
    "start = [-half_tile, y2]\n",
    "end = [x3, half_tile]\n",
    "middle = midpoints(start, end)\n",
    "ctr_pts4 = [\n",
    "    dw.SE2Transform(start, np.deg2rad(0)),\n",
    "    dw.SE2Transform(middle, np.deg2rad(45)),\n",
    "    dw.SE2Transform(end, np.deg2rad(90)),\n",
    "]\n",
    "\n",
    "# double right\n",
    "start = [-half_tile, y1]\n",
    "end = [x1, -half_tile]\n",
    "middle = midpoints(start, end)\n",
    "ctr_pts5 = [\n",
    "    dw.SE2Transform(start, np.deg2rad(0)),\n",
    "    dw.SE2Transform(middle, np.deg2rad(-45)),\n",
    "    dw.SE2Transform(end, np.deg2rad(-90)),\n",
    "]\n",
    "\n",
    "start = [-half_tile, y2]\n",
    "end = [x2, -half_tile]\n",
    "middle = midpoints(start, end)\n",
    "ctr_pts6 = [\n",
    "    dw.SE2Transform(start, np.deg2rad(0)),\n",
    "    dw.SE2Transform(middle, np.deg2rad(-45)),\n",
    "    dw.SE2Transform(end, np.deg2rad(-90)),\n",
    "]\n",
    "\n",
    "\n",
    "test_lane1 = dw.LaneSegment(width, ctr_pts1)\n",
    "test_lane2 = dw.LaneSegment(width, ctr_pts2)\n",
    "test_lane3 = dw.LaneSegment(width, ctr_pts3)\n",
    "test_lane4 = dw.LaneSegment(width, ctr_pts4)\n",
    "test_lane5 = dw.LaneSegment(width, ctr_pts5)\n",
    "test_lane6 = dw.LaneSegment(width, ctr_pts6)\n",
    "\n",
    "gt = dw.SE2Transform([half_tile, half_tile], 0)\n",
    "m.set_object(\"Test Lane 1\", test_lane1, ground_truth=gt)\n",
    "m.set_object(\"Test Lane 2\", test_lane2, ground_truth=gt)\n",
    "m.set_object(\"Test Lane 3\", test_lane3, ground_truth=gt)\n",
    "m.set_object(\"Test Lane 4\", test_lane4, ground_truth=gt)\n",
    "m.set_object(\"Test Lane 5\", test_lane5, ground_truth=gt)\n",
    "m.set_object(\"Test Lane 6\", test_lane6, ground_truth=gt)\n",
    "ipython_draw_html(m);"
   ]
  },
  {
   "cell_type": "code",
   "execution_count": null,
   "metadata": {},
   "outputs": [],
   "source": []
  }
 ],
 "metadata": {
  "kernelspec": {
   "display_name": "Python 3",
   "language": "python",
   "name": "python3"
  },
  "language_info": {
   "codemirror_mode": {
    "name": "ipython",
    "version": 3
   },
   "file_extension": ".py",
   "mimetype": "text/x-python",
   "name": "python",
   "nbconvert_exporter": "python",
   "pygments_lexer": "ipython3",
   "version": "3.8.5"
  }
 },
 "nbformat": 4,
 "nbformat_minor": 1
}