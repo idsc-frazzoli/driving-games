{
 "cells": [
  {
   "cell_type": "markdown",
   "metadata": {},
   "source": [
    "### Set if you work in pycharm or in native jupyter environment (recommended): used for plotting"
   ]
  },
  {
   "cell_type": "code",
   "execution_count": 1,
   "metadata": {
    "pycharm": {
     "name": "#%% define if working in pycharm or native jupyter notebook environment\n"
    }
   },
   "outputs": [],
   "source": [
    "IN_PYCHARM : bool = False"
   ]
  },
  {
   "cell_type": "markdown",
   "metadata": {},
   "source": [
    "### Preliminary imports and settings"
   ]
  },
  {
   "cell_type": "code",
   "execution_count": 2,
   "metadata": {},
   "outputs": [
    {
     "name": "stderr",
     "output_type": "stream",
     "text": [
      "INFO:geometry:version: 2.0.5\n",
      "INFO:commons:version: 6.1.5\n",
      "INFO:typing:version: 6.1.8\n",
      "DEBUG:duckietown_world:duckietown-world version 6.2.7 path /home/chrigi/Master-Thesis-Code/driving-games/venv/lib/python3.8/site-packages\n"
     ]
    }
   ],
   "source": [
    "# Imports\n",
    "from math import isclose\n",
    "from copy import deepcopy\n",
    "from IPython.display import clear_output\n",
    "import networkx as nx\n",
    "import numpy as np\n",
    "from matplotlib import pyplot as plt\n",
    "\n",
    "import contracts\n",
    "import geometry as geo\n",
    "\n",
    "import duckietown_world as dw\n",
    "from duckietown_world.svg_drawing.ipython_utils import ipython_draw_html, ipython_draw_svg\n",
    "from duckietown_world.world_duckietown.tile import get_lane_poses\n",
    "from duckietown_world.world_duckietown.tile_utils import get_tile_at_point\n",
    "from duckietown_world.rules.rule import evaluate_rules\n",
    "\n",
    "# Some settings\n",
    "contracts.disable_all()\n",
    "dw.logger.setLevel(50)\n",
    "d = \"out/\""
   ]
  },
  {
   "cell_type": "markdown",
   "metadata": {
    "pycharm": {
     "name": "#%% md\n"
    }
   },
   "source": [
    "### Define some useful functions"
   ]
  },
  {
   "cell_type": "code",
   "execution_count": 3,
   "metadata": {
    "pycharm": {
     "name": "#%%\n"
    }
   },
   "outputs": [],
   "source": [
    "def draw_object(pl_ob: dw.PlacedObject, outdir=None, area=None, in_pycharm: bool = IN_PYCHARM):\n",
    "    if in_pycharm:\n",
    "        ipython_draw_html(po=pl_ob, outdir=outdir, area=area)\n",
    "        clear_output(wait=True)\n",
    "        ipython_draw_svg(m=pl_ob, outdir=outdir)\n",
    "    else:\n",
    "        ipython_draw_html(po=pl_ob, outdir=outdir, area=area)\n",
    "\n",
    "def draw_graph(G0, pos=None):\n",
    "    pos = pos or nx.spring_layout(G0)\n",
    "    plt.figure(figsize=(12, 12))\n",
    "    nx.draw(G0,pos,labels={node:node for node in G0.nodes()})\n",
    "    def edge_label(a, b):\n",
    "        datas = G0.get_edge_data(a, b)\n",
    "        s = '%d edge%s' % (len(datas), 's' if len(datas)>=2 else '')\n",
    "        for k, v in datas.items():\n",
    "            if v:\n",
    "                if 'label' in v:\n",
    "                    s += '\\n %s' % v['label']\n",
    "                else:\n",
    "                    s += '\\n %s' %v\n",
    "        return s\n",
    "    edge_labels = dict([ ((a,b), edge_label(a,b)) for a,b in G0.edges()])\n",
    "    nx.draw_networkx_edge_labels(G0,pos,edge_labels=edge_labels,font_color='red')\n",
    "    plt.axis('off')\n",
    "    plt.show()"
   ]
  },
  {
   "cell_type": "markdown",
   "metadata": {
    "pycharm": {
     "name": "#%% md\n"
    }
   },
   "source": [
    "### Better Visualisation of output"
   ]
  },
  {
   "cell_type": "code",
   "execution_count": 4,
   "metadata": {
    "pycharm": {
     "name": "#%%\n"
    }
   },
   "outputs": [
    {
     "data": {
      "text/html": [
       "<style>\n",
       "pre {line-height: 90%}\n",
       "</style>\n"
      ],
      "text/plain": [
       "<IPython.core.display.HTML object>"
      ]
     },
     "metadata": {},
     "output_type": "display_data"
    }
   ],
   "source": [
    "%%html\n",
    "<style>\n",
    "pre {line-height: 90%}\n",
    "</style>"
   ]
  },
  {
   "cell_type": "markdown",
   "metadata": {
    "pycharm": {
     "name": "#%% md\n"
    }
   },
   "source": [
    "### Import and draw the map"
   ]
  },
  {
   "cell_type": "code",
   "execution_count": 5,
   "metadata": {
    "pycharm": {
     "name": "#%%\n"
    }
   },
   "outputs": [
    {
     "name": "stderr",
     "output_type": "stream",
     "text": [
      "INFO:duckietown_world: \u001B[2mdata\u001B[0m: /home/chrigi/Master-Thesis-Code/driving-games/venv/lib/python3.8/site-packages/duckietown_world/data\n",
      "INFO:duckietown_world: \u001B[2marea\u001B[0m: RectangularArea(pmin=[0. 0.],pmax=[2.87117992 2.87117992])\n",
      "DEBUG:commons.fs:already up to date out/4way/drawing.html\n",
      "INFO:duckietown_world:Written SVG\n",
      " \u001B[2mfn_svg\u001B[0m: out/4way/drawing.svg\n"
     ]
    },
    {
     "data": {
      "text/html": [
       "\n",
       "        <iframe\n",
       "            width=\"100%\"\n",
       "            height=\"600\"\n",
       "            src=\"out/4way/drawing.html\"\n",
       "            frameborder=\"0\"\n",
       "            allowfullscreen\n",
       "        ></iframe>\n",
       "        "
      ],
      "text/plain": [
       "<IPython.lib.display.IFrame at 0x7fbf5d718400>"
      ]
     },
     "metadata": {},
     "output_type": "display_data"
    }
   ],
   "source": [
    "duckie_map = dw.load_map('4way')\n",
    "\n",
    "dirname = d + \"4way\"\n",
    "draw_object(duckie_map, outdir=dirname)"
   ]
  },
  {
   "cell_type": "markdown",
   "metadata": {
    "pycharm": {
     "name": "#%% md\n"
    }
   },
   "source": [
    "### Get skeleton graph (contains the lane segments and the graph interconnecting them)"
   ]
  },
  {
   "cell_type": "code",
   "execution_count": 6,
   "metadata": {
    "pycharm": {
     "name": "#%%\n"
    }
   },
   "outputs": [],
   "source": [
    "skeleton_graph = dw.get_skeleton_graph(duckie_map)"
   ]
  },
  {
   "cell_type": "markdown",
   "metadata": {
    "pycharm": {
     "name": "#%% md\n"
    }
   },
   "source": [
    "### Get the map of the joined lane segments and draw it (check box \"map lane segments\" to see it)"
   ]
  },
  {
   "cell_type": "code",
   "execution_count": 7,
   "metadata": {
    "pycharm": {
     "name": "#%%\n"
    }
   },
   "outputs": [
    {
     "name": "stderr",
     "output_type": "stream",
     "text": [
      "INFO:duckietown_world: \u001B[2marea\u001B[0m: RectangularArea(pmin=[0. 0.],pmax=[2.87117995 2.87117995])\n",
      "DEBUG:commons.fs:already up to date out/4wayjoinedlane/drawing.html\n",
      "INFO:duckietown_world:Written SVG\n",
      " \u001B[2mfn_svg\u001B[0m: out/4wayjoinedlane/drawing.svg\n"
     ]
    },
    {
     "data": {
      "text/html": [
       "\n",
       "        <iframe\n",
       "            width=\"100%\"\n",
       "            height=\"600\"\n",
       "            src=\"out/4wayjoinedlane/drawing.html\"\n",
       "            frameborder=\"0\"\n",
       "            allowfullscreen\n",
       "        ></iframe>\n",
       "        "
      ],
      "text/plain": [
       "<IPython.lib.display.IFrame at 0x7fbf5b0ec730>"
      ]
     },
     "metadata": {},
     "output_type": "display_data"
    }
   ],
   "source": [
    "joined_lane_segments = skeleton_graph.root2\n",
    "\n",
    "dirname = d + \"4wayjoinedlane\"\n",
    "draw_object(joined_lane_segments, outdir=dirname)"
   ]
  },
  {
   "cell_type": "markdown",
   "metadata": {
    "pycharm": {
     "name": "#%% md\n"
    }
   },
   "source": [
    "### Get the graph of the topology"
   ]
  },
  {
   "cell_type": "code",
   "execution_count": 8,
   "metadata": {
    "pycharm": {
     "name": "#%%\n"
    }
   },
   "outputs": [],
   "source": [
    "topology_graph = skeleton_graph.G"
   ]
  },
  {
   "cell_type": "markdown",
   "metadata": {
    "pycharm": {
     "name": "#%% md\n"
    }
   },
   "source": [
    "### Draw the graph"
   ]
  },
  {
   "cell_type": "code",
   "execution_count": 9,
   "metadata": {
    "pycharm": {
     "name": "#%%\n"
    }
   },
   "outputs": [
    {
     "data": {
      "image/png": "[encoded data removed]",
      "text/plain": [
       "<Figure size 864x864 with 1 Axes>"
      ]
     },
     "metadata": {},
     "output_type": "display_data"
    }
   ],
   "source": [
    "pos = {}\n",
    "for n in topology_graph:\n",
    "    q = topology_graph.nodes[n]['point'].as_SE2()\n",
    "    t, _ = geo.translation_angle_from_SE2(q)\n",
    "    pos[n] = t\n",
    "draw_graph(topology_graph, pos=pos)"
   ]
  },
  {
   "cell_type": "markdown",
   "metadata": {
    "pycharm": {
     "name": "#%% md\n"
    }
   },
   "source": [
    "### Extract the shortest path from a start node to an end node as list"
   ]
  },
  {
   "cell_type": "code",
   "execution_count": 10,
   "metadata": {
    "pycharm": {
     "name": "#%%\n"
    }
   },
   "outputs": [
    {
     "name": "stdout",
     "output_type": "stream",
     "text": [
      "['ls051', 'ls031', 'ls040', 'ls044', 'L7', 'ls005', 'ls017']\n"
     ]
    }
   ],
   "source": [
    "start = \"P27\"\n",
    "end = \"P9\"\n",
    "\n",
    "path = nx.shortest_path(topology_graph, start, end)\n",
    "\n",
    "def get_lanes(path, graph):\n",
    "    edges = zip(path[:-1], path[1:])\n",
    "    lanes =[]\n",
    "    for a, b in edges:\n",
    "        lane = graph.get_edge_data(a, b)[0]['lane']\n",
    "        lanes.append(lane)\n",
    "    return lanes\n",
    "\n",
    "lanes = get_lanes(path, topology_graph)\n",
    "print(lanes)"
   ]
  },
  {
   "cell_type": "markdown",
   "metadata": {},
   "source": [
    "### Extract the lane segments and draw them"
   ]
  },
  {
   "cell_type": "code",
   "execution_count": 11,
   "metadata": {
    "pycharm": {
     "name": "#%%\n"
    }
   },
   "outputs": [
    {
     "name": "stderr",
     "output_type": "stream",
     "text": [
      "INFO:duckietown_world: \u001B[2marea\u001B[0m: RectangularArea(pmin=[0. 0.],pmax=[2.87117995 2.87117995])\n",
      "DEBUG:commons.fs:Written 0.0MB to: out/extractedlane/drawing.html\n",
      "INFO:duckietown_world:Written SVG\n",
      " \u001B[2mfn_svg\u001B[0m: out/extractedlane/drawing.svg\n"
     ]
    },
    {
     "data": {
      "text/html": [
       "\n",
       "        <iframe\n",
       "            width=\"100%\"\n",
       "            height=\"600\"\n",
       "            src=\"out/extractedlane/drawing.html\"\n",
       "            frameborder=\"0\"\n",
       "            allowfullscreen\n",
       "        ></iframe>\n",
       "        "
      ],
      "text/plain": [
       "<IPython.lib.display.IFrame at 0x7fbf5b113f10>"
      ]
     },
     "metadata": {},
     "output_type": "display_data"
    }
   ],
   "source": [
    "lane_segments_to_follow = [joined_lane_segments.children[lane_name] for lane_name in lanes]\n",
    "\n",
    "lane_points = []\n",
    "po = dw.PlacedObject()\n",
    "for lane_name, lane in zip(lanes, lane_segments_to_follow):\n",
    "    po.set_object(lane_name, lane, ground_truth=dw.SE2Transform.identity())\n",
    "\n",
    "dirname = d + \"extractedlane\"\n",
    "draw_object(po, outdir = dirname)"
   ]
  },
  {
   "cell_type": "markdown",
   "metadata": {},
   "source": [
    "### Get the width of one of the lane segments"
   ]
  },
  {
   "cell_type": "code",
   "execution_count": 12,
   "metadata": {
    "pycharm": {
     "name": "#%%\n"
    }
   },
   "outputs": [],
   "source": [
    "width = lane_segments_to_follow[0].width"
   ]
  },
  {
   "cell_type": "markdown",
   "metadata": {},
   "source": [
    "### Merge the extracted lane segments to have one unified lane"
   ]
  },
  {
   "cell_type": "code",
   "execution_count": 13,
   "metadata": {
    "pycharm": {
     "name": "#%%\n"
    }
   },
   "outputs": [
    {
     "name": "stderr",
     "output_type": "stream",
     "text": [
      "INFO:duckietown_world: \u001B[2marea\u001B[0m: RectangularArea(pmin=[0. 0.],pmax=[2.87117995 2.87117995])\n",
      "DEBUG:commons.fs:Written 0.0MB to: out/unified_lane/drawing.html\n",
      "INFO:duckietown_world:Written SVG\n",
      " \u001B[2mfn_svg\u001B[0m: out/unified_lane/drawing.svg\n"
     ]
    },
    {
     "data": {
      "text/html": [
       "\n",
       "        <iframe\n",
       "            width=\"100%\"\n",
       "            height=\"600\"\n",
       "            src=\"out/unified_lane/drawing.html\"\n",
       "            frameborder=\"0\"\n",
       "            allowfullscreen\n",
       "        ></iframe>\n",
       "        "
      ],
      "text/plain": [
       "<IPython.lib.display.IFrame at 0x7fbf5b137100>"
      ]
     },
     "metadata": {},
     "output_type": "display_data"
    }
   ],
   "source": [
    "import itertools as it\n",
    "\n",
    "# Make a list of all the control points, while making sure that the points that overlap are only taken once\n",
    "lane_segments_to_follow_control_points = list(  \n",
    "    it.chain(\n",
    "        *[ls.control_points[:-1] if ls is not lane_segments_to_follow[-1]\n",
    "          else ls.control_points for ls in lane_segments_to_follow]\n",
    "    )\n",
    ")\n",
    "\n",
    "# Creating a unified lane segment\n",
    "lane_segments_to_follow_unified = dw.LaneSegment(\n",
    "    width=width, control_points=lane_segments_to_follow_control_points\n",
    ")\n",
    "\n",
    "# Draw the unified lane segment\n",
    "po = dw.PlacedObject()\n",
    "po.set_object(\"Unified Lane\", lane_segments_to_follow_unified, ground_truth=dw.SE2Transform.identity())\n",
    "dirname = d + \"unified_lane\"\n",
    "draw_object(po, outdir=dirname)"
   ]
  },
  {
   "cell_type": "markdown",
   "metadata": {},
   "source": [
    "### Check if the merged lane has the same total length as the sum of its parts"
   ]
  },
  {
   "cell_type": "code",
   "execution_count": 14,
   "metadata": {
    "pycharm": {
     "name": "#%%\n"
    }
   },
   "outputs": [],
   "source": [
    "sum_lane_lengths = sum([ln.get_lane_length() for ln in lane_segments_to_follow])\n",
    "sum_lane_segmenst_unified = lane_segments_to_follow_unified.get_lane_length()\n",
    "msg = f\"Lanes have not the same lenght: {sum_lane_lengths} is not {sum_lane_segmenst_unified}\"\n",
    "assert isclose(sum_lane_segmenst_unified , sum_lane_lengths, abs_tol=1e-5), msg"
   ]
  },
  {
   "cell_type": "markdown",
   "metadata": {},
   "source": [
    "### Interpolate along the center line"
   ]
  },
  {
   "cell_type": "code",
   "execution_count": 15,
   "metadata": {
    "pycharm": {
     "name": "#%%\n"
    }
   },
   "outputs": [
    {
     "name": "stderr",
     "output_type": "stream",
     "text": [
      "INFO:duckietown_world: \u001B[2marea\u001B[0m: RectangularArea(pmin=[0. 0.],pmax=[2.87117992 2.87117992])\n",
      "DEBUG:commons.fs:Written 0.5MB to: out/lane_follow_unified/drawing.html\n",
      "INFO:duckietown_world:Written SVG\n",
      " \u001B[2mfn_svg\u001B[0m: out/lane_follow_unified/drawing.svg\n"
     ]
    },
    {
     "data": {
      "text/html": [
       "\n",
       "        <iframe\n",
       "            width=\"100%\"\n",
       "            height=\"600\"\n",
       "            src=\"out/lane_follow_unified/drawing.html\"\n",
       "            frameborder=\"0\"\n",
       "            allowfullscreen\n",
       "        ></iframe>\n",
       "        "
      ],
      "text/plain": [
       "<IPython.lib.display.IFrame at 0x7fbf5b55dbb0>"
      ]
     },
     "metadata": {},
     "output_type": "display_data"
    }
   ],
   "source": [
    "npoints = len(lane_segments_to_follow_unified.control_points) # get the control points of the lane\n",
    "points = 15\n",
    "betas = list(np.linspace(0, npoints-1, points))  # first control point beta=0, last control point beta=nbpoints-1\n",
    "\n",
    "transforms = []\n",
    "for beta in betas:\n",
    "    p = lane_segments_to_follow_unified.center_point(beta)  # get interpolated pose in SE(2)\n",
    "    transform = dw.SE2Transform.from_SE2(p)  # Transform to SE2Transform \n",
    "    transforms.append(transform)\n",
    "\n",
    "ground_truth = dw.SampledSequence[dw.SE2Transform](betas, transforms) # Setting the sequence for animation\n",
    "duckie_map_lanefollow = deepcopy(duckie_map)  # copy the map  to prevent adding objects to the \"original\" map\n",
    "duckie_map_lanefollow.set_object(\"Duckie\", dw.DB18(), ground_truth=ground_truth) # add a duckie with the sequence\n",
    "dirname = d + \"lane_follow_unified\"\n",
    "draw_object(duckie_map_lanefollow, outdir=dirname)"
   ]
  },
  {
   "cell_type": "markdown",
   "metadata": {},
   "source": [
    "### Define functions to interpolate along center line beta=0 start beta=1 end"
   ]
  },
  {
   "cell_type": "code",
   "execution_count": 16,
   "metadata": {
    "pycharm": {
     "name": "#%%\n"
    }
   },
   "outputs": [],
   "source": [
    "from typing import List\n",
    "\n",
    "def interpolate(lane: dw.LaneSegment, beta: float) -> dw.SE2Transform:\n",
    "    \"\"\" Interpolate along the centerline of a lane. Start: beta=0, End beta=1 \"\"\"\n",
    "    n_ctr_points = len(lane.control_points) # get the control points of the lane\n",
    "    dw_beta = beta * (n_ctr_points - 1) # transform the beta to the beta used by duckietown world\n",
    "    p = lane.center_point(dw_beta) # get the pose\n",
    "    transform = dw.SE2Transform.from_SE2(p) # transform the pose\n",
    "    return transform\n",
    "\n",
    "def interpolate_n_points(lane: dw.LaneSegment, betas: List[float]) -> List[dw.SE2Transform]:\n",
    "    \"\"\" Get pose sequence as a SE2Transform along the center line of a lane, beta=0 start beta=1 end \"\"\"\n",
    "    msg = f\"betas = {betas} have to be in ascending order to follow a lane\"\n",
    "    assert all(map(isclose, sorted(betas), betas)), msg  # check if values are ascending\n",
    "    transforms = [interpolate(lane, beta) for beta in betas]\n",
    "    return transforms\n"
   ]
  },
  {
   "cell_type": "markdown",
   "metadata": {},
   "source": [
    "### Test the functions"
   ]
  },
  {
   "cell_type": "code",
   "execution_count": 17,
   "metadata": {
    "pycharm": {
     "name": "#%%\n"
    }
   },
   "outputs": [
    {
     "name": "stderr",
     "output_type": "stream",
     "text": [
      "INFO:duckietown_world: \u001B[2marea\u001B[0m: RectangularArea(pmin=[0. 0.],pmax=[2.87117992 2.87117992])\n",
      "DEBUG:commons.fs:Written 0.6MB to: out/lane_follow_interpolated/drawing.html\n",
      "INFO:duckietown_world:Written SVG\n",
      " \u001B[2mfn_svg\u001B[0m: out/lane_follow_interpolated/drawing.svg\n"
     ]
    },
    {
     "data": {
      "text/html": [
       "\n",
       "        <iframe\n",
       "            width=\"100%\"\n",
       "            height=\"600\"\n",
       "            src=\"out/lane_follow_interpolated/drawing.html\"\n",
       "            frameborder=\"0\"\n",
       "            allowfullscreen\n",
       "        ></iframe>\n",
       "        "
      ],
      "text/plain": [
       "<IPython.lib.display.IFrame at 0x7fbf5b11d940>"
      ]
     },
     "metadata": {},
     "output_type": "display_data"
    }
   ],
   "source": [
    "points = 60 # number of interpolation points\n",
    "betas = list(np.linspace(0,1,points))\n",
    "timestamps = range(points)\n",
    "transforms = interpolate_n_points(lane_segments_to_follow_unified, betas)  # get the pose sequence\n",
    "\n",
    "# Animation\n",
    "ground_truth = dw.SampledSequence[dw.SE2Transform](timestamps, transforms)\n",
    "duckie_map_lanefollow = deepcopy(duckie_map)\n",
    "duckie_map_lanefollow.set_object(\"Duckie\", dw.DB18(), ground_truth=ground_truth)\n",
    "dirname = d + \"lane_follow_interpolated\"\n",
    "draw_object(duckie_map_lanefollow, outdir=dirname)\n"
   ]
  },
  {
   "cell_type": "markdown",
   "metadata": {},
   "source": [
    "### Define functions to interpolate along the centerlines when the position along the lane is known"
   ]
  },
  {
   "cell_type": "code",
   "execution_count": 18,
   "metadata": {
    "pycharm": {
     "name": "#%% interpolate by velocity\n"
    }
   },
   "outputs": [],
   "source": [
    "def interpolate_along_lane(lane: dw.LaneSegment, along_lane: float) -> dw.SE2Transform:\n",
    "    \"\"\" Input: lane and 1D position along the lane. Output: Pose on the duckietown map \"\"\"\n",
    "    dw_beta = lane.beta_from_along_lane(along_lane=along_lane)  # get the beta in in the dw representation\n",
    "    p = lane.center_point(dw_beta)  # get pose\n",
    "    transform = dw.SE2Transform.from_SE2(p)\n",
    "    return transform\n",
    "\n",
    "def interpolate_along_lane_n_points(\n",
    "    lane: dw.LaneSegment,\n",
    "    positions_along_lane: List[float]\n",
    ") -> List[dw.SE2Transform]:\n",
    "    \"\"\" Input: lane and sequence of 1D positions along the lane. Output: Pose sequence on the duckietown map \"\"\"\n",
    "    msg = f\"Positions={positions_along_lane} have to be in ascending order to follow a lane\"\n",
    "    assert all(map(isclose, sorted(positions_along_lane), positions_along_lane)), msg\n",
    "    transforms = [interpolate_along_lane(lane, along_lane) for along_lane in positions_along_lane]\n",
    "    return transforms"
   ]
  },
  {
   "cell_type": "markdown",
   "metadata": {
    "pycharm": {
     "name": "#%% md\n"
    }
   },
   "source": [
    "### Test functions"
   ]
  },
  {
   "cell_type": "code",
   "execution_count": 19,
   "metadata": {
    "pycharm": {
     "name": "#%%\n"
    }
   },
   "outputs": [
    {
     "name": "stderr",
     "output_type": "stream",
     "text": [
      "INFO:duckietown_world: \u001B[2marea\u001B[0m: RectangularArea(pmin=[0. 0.],pmax=[2.87117992 2.87117992])\n",
      "DEBUG:commons.fs:Written 0.8MB to: out/lane_follow_along_lane_interpolated/drawing.html\n",
      "INFO:duckietown_world:Written SVG\n",
      " \u001B[2mfn_svg\u001B[0m: out/lane_follow_along_lane_interpolated/drawing.svg\n"
     ]
    },
    {
     "data": {
      "text/html": [
       "\n",
       "        <iframe\n",
       "            width=\"100%\"\n",
       "            height=\"600\"\n",
       "            src=\"out/lane_follow_along_lane_interpolated/drawing.html\"\n",
       "            frameborder=\"0\"\n",
       "            allowfullscreen\n",
       "        ></iframe>\n",
       "        "
      ],
      "text/plain": [
       "<IPython.lib.display.IFrame at 0x7fbf5b5260a0>"
      ]
     },
     "metadata": {},
     "output_type": "display_data"
    }
   ],
   "source": [
    "max_length = lane_segments_to_follow_unified.get_lane_length()  # get total length of the lane\n",
    "points = 100  # number of points to interpolate\n",
    "positions_along_lane = list(np.linspace(0, max_length, points))  # sequence of 1D position along the lane\n",
    "timestamps = range(points) # just number of points\n",
    "transforms = interpolate_along_lane_n_points(lane_segments_to_follow_unified, positions_along_lane)\n",
    "\n",
    "# Animation\n",
    "ground_truth = dw.SampledSequence[dw.SE2Transform](timestamps, transforms)\n",
    "duckie_map_lanefollow = deepcopy(duckie_map)\n",
    "duckie_map_lanefollow.set_object(\"Duckie\", dw.DB18(), ground_truth=ground_truth)\n",
    "dirname = d + \"lane_follow_along_lane_interpolated\"\n",
    "draw_object(duckie_map_lanefollow, outdir=dirname)"
   ]
  },
  {
   "cell_type": "markdown",
   "metadata": {
    "pycharm": {
     "name": "#%% md\n"
    }
   },
   "source": [
    "## Collection of other useful functions\n",
    "\n",
    "### Sample some center line points of a lane (default 5 points)"
   ]
  },
  {
   "cell_type": "code",
   "execution_count": 20,
   "metadata": {
    "pycharm": {
     "name": "#%%\n"
    }
   },
   "outputs": [
    {
     "name": "stdout",
     "output_type": "stream",
     "text": [
      "[array([[ 2.83276934e-16, -1.00000000e+00,  1.59119999e+00],\n",
      "       [ 1.00000000e+00,  2.83276934e-16,  5.84999919e-01],\n",
      "       [ 0.00000000e+00,  0.00000000e+00,  1.00000000e+00]]), array([[ 2.83276934e-16, -1.00000000e+00,  1.59119999e+00],\n",
      "       [ 1.00000000e+00,  2.83276934e-16,  7.03828052e-01],\n",
      "       [ 0.00000000e+00,  0.00000000e+00,  1.00000000e+00]]), array([[ 2.83276934e-16, -1.00000000e+00,  1.59119999e+00],\n",
      "       [ 1.00000000e+00,  2.83276934e-16,  8.22656184e-01],\n",
      "       [ 0.00000000e+00,  0.00000000e+00,  1.00000000e+00]]), array([[ 2.83276934e-16, -1.00000000e+00,  1.59119999e+00],\n",
      "       [ 1.00000000e+00,  2.83276934e-16,  9.41484317e-01],\n",
      "       [ 0.00000000e+00,  0.00000000e+00,  1.00000000e+00]]), array([[ 2.83276934e-16, -1.00000000e+00,  1.59119999e+00],\n",
      "       [ 1.00000000e+00,  2.83276934e-16,  1.06031245e+00],\n",
      "       [ 0.00000000e+00,  0.00000000e+00,  1.00000000e+00]]), array([[ 0.01227154, -0.9999247 ,  1.59118776],\n",
      "       [ 0.9999247 ,  0.01227154,  1.17202039],\n",
      "       [ 0.        ,  0.        ,  1.        ]]), array([[ 0.17096189, -0.98527764,  1.59328057],\n",
      "       [ 0.98527764,  0.17096189,  1.19817522],\n",
      "       [ 0.        ,  0.        ,  1.        ]]), array([[ 0.3253103 , -0.94560732,  1.59950172],\n",
      "       [ 0.94560732,  0.3253103 ,  1.22366546],\n",
      "       [ 0.        ,  0.        ,  1.        ]]), array([[ 0.47139675, -0.88192126,  1.6096932 ],\n",
      "       [ 0.88192126,  0.47139675,  1.24784373],\n",
      "       [ 0.        ,  0.        ,  1.        ]]), array([[ 0.60551106, -0.79583689,  1.62359618],\n",
      "       [ 0.79583689,  0.60551106,  1.27009597],\n",
      "       [ 0.        ,  0.        ,  1.        ]]), array([[ 0.72424707, -0.68954053,  1.64092637],\n",
      "       [ 0.68954053,  0.72424707,  1.2897865 ],\n",
      "       [ 0.        ,  0.        ,  1.        ]]), array([[ 0.82458929, -0.5657318 ,  1.66151056],\n",
      "       [ 0.5657318 ,  0.82458929,  1.30605741],\n",
      "       [ 0.        ,  0.        ,  1.        ]]), array([[ 0.90398928, -0.42755508,  1.68441812],\n",
      "       [ 0.42755508,  0.90398928,  1.31885172],\n",
      "       [ 0.        ,  0.        ,  1.        ]]), array([[ 0.96043051, -0.27851967,  1.70906728],\n",
      "       [ 0.27851967,  0.96043051,  1.32784452],\n",
      "       [ 0.        ,  0.        ,  1.        ]]), array([[ 0.99247952, -0.12241065,  1.734832  ],\n",
      "       [ 0.12241065,  0.99247952,  1.3328074 ],\n",
      "       [ 0.        ,  0.        ,  1.        ]]), array([[1.        , 0.        , 1.78242175],\n",
      "       [0.        , 1.        , 1.33379996],\n",
      "       [0.        , 0.        , 1.        ]]), array([[1.        , 0.        , 1.90124989],\n",
      "       [0.        , 1.        , 1.33379996],\n",
      "       [0.        , 0.        , 1.        ]]), array([[1.        , 0.        , 2.02007802],\n",
      "       [0.        , 1.        , 1.33379996],\n",
      "       [0.        , 0.        , 1.        ]]), array([[1.        , 0.        , 2.13890615],\n",
      "       [0.        , 1.        , 1.33379996],\n",
      "       [0.        , 0.        , 1.        ]]), array([[1.        , 0.        , 2.25773428],\n",
      "       [0.        , 1.        , 1.33379996],\n",
      "       [0.        , 0.        , 1.        ]]), array([[ 0.99879546, -0.04906768,  2.36047121],\n",
      "       [ 0.04906768,  0.99879546,  1.33474951],\n",
      "       [ 0.        ,  0.        ,  1.        ]]), array([[ 0.97831737, -0.20711138,  2.42625675],\n",
      "       [ 0.20711138,  0.97831737,  1.34473659],\n",
      "       [ 0.        ,  0.        ,  1.        ]]), array([[ 0.9329928 , -0.35989505,  2.48962038],\n",
      "       [ 0.35989505,  0.9329928 ,  1.36504741],\n",
      "       [ 0.        ,  0.        ,  1.        ]]), array([[ 0.86397285, -0.5035384 ,  2.54895284],\n",
      "       [ 0.5035384 ,  0.86397285,  1.39516614],\n",
      "       [ 0.        ,  0.        ,  1.        ]]), array([[ 0.77301044, -0.6343933 ,  2.60274726],\n",
      "       [ 0.6343933 ,  0.77301044,  1.43432786],\n",
      "       [ 0.        ,  0.        ,  1.        ]]), array([[ 0.66241576, -0.74913638,  2.65045119],\n",
      "       [ 0.74913638,  0.66241576,  1.48077261],\n",
      "       [ 0.        ,  0.        ,  1.        ]]), array([[ 0.53499761, -0.84485355,  2.69156635],\n",
      "       [ 0.84485355,  0.53499761,  1.53308911],\n",
      "       [ 0.        ,  0.        ,  1.        ]]), array([[ 0.39399202, -0.91911384,  2.72384852],\n",
      "       [ 0.91911384,  0.39399202,  1.59127275],\n",
      "       [ 0.        ,  0.        ,  1.        ]]), array([[ 0.24298016, -0.97003124,  2.74647779],\n",
      "       [ 0.97003124,  0.24298016,  1.65384582],\n",
      "       [ 0.        ,  0.        ,  1.        ]]), array([[ 0.08579729, -0.9963126 ,  2.75887947],\n",
      "       [ 0.9963126 ,  0.08579729,  1.71921915],\n",
      "       [ 0.        ,  0.        ,  1.        ]]), array([[ 6.12323426e-17, -1.00000000e+00,  2.76119995e+00],\n",
      "       [ 1.00000000e+00,  6.12323426e-17,  1.80984363e+00],\n",
      "       [ 0.00000000e+00,  0.00000000e+00,  1.00000000e+00]]), array([[ 6.12323426e-17, -1.00000000e+00,  2.76119995e+00],\n",
      "       [ 1.00000000e+00,  6.12323426e-17,  1.92867176e+00],\n",
      "       [ 0.00000000e+00,  0.00000000e+00,  1.00000000e+00]]), array([[ 6.12323426e-17, -1.00000000e+00,  2.76119995e+00],\n",
      "       [ 1.00000000e+00,  6.12323426e-17,  2.04749990e+00],\n",
      "       [ 0.00000000e+00,  0.00000000e+00,  1.00000000e+00]]), array([[ 6.12323426e-17, -1.00000000e+00,  2.76119995e+00],\n",
      "       [ 1.00000000e+00,  6.12323426e-17,  2.16632803e+00],\n",
      "       [ 0.00000000e+00,  0.00000000e+00,  1.00000000e+00]]), array([[ 6.12323426e-17, -1.00000000e+00,  2.76119995e+00],\n",
      "       [ 1.00000000e+00,  6.12323426e-17,  2.28515616e+00],\n",
      "       [ 0.00000000e+00,  0.00000000e+00,  1.00000000e+00]]), array([[-0.08579731, -0.99631261,  2.75887957],\n",
      "       [ 0.99631261, -0.08579731,  2.37578061],\n",
      "       [ 0.        ,  0.        ,  1.        ]]), array([[-0.24298019, -0.97003125,  2.74647788],\n",
      "       [ 0.97003125, -0.24298019,  2.44115398],\n",
      "       [ 0.        ,  0.        ,  1.        ]]), array([[-0.39399205, -0.91911385,  2.72384859],\n",
      "       [ 0.91911385, -0.39399205,  2.50372708],\n",
      "       [ 0.        ,  0.        ,  1.        ]]), array([[-0.53499763, -0.84485356,  2.6915664 ],\n",
      "       [ 0.84485356, -0.53499763,  2.56191076],\n",
      "       [ 0.        ,  0.        ,  1.        ]]), array([[-0.66241579, -0.74913638,  2.6504512 ],\n",
      "       [ 0.74913638, -0.66241579,  2.61422729],\n",
      "       [ 0.        ,  0.        ,  1.        ]]), array([[-0.77301044, -0.63439327,  2.60274725],\n",
      "       [ 0.63439327, -0.77301044,  2.66067204],\n",
      "       [ 0.        ,  0.        ,  1.        ]]), array([[-0.86397284, -0.50353837,  2.54895282],\n",
      "       [ 0.50353837, -0.86397284,  2.69983372],\n",
      "       [ 0.        ,  0.        ,  1.        ]]), array([[-0.93299279, -0.35989502,  2.48962035],\n",
      "       [ 0.35989502, -0.93299279,  2.72995242],\n",
      "       [ 0.        ,  0.        ,  1.        ]]), array([[-0.97831736, -0.20711136,  2.42625671],\n",
      "       [ 0.20711136, -0.97831736,  2.75026321],\n",
      "       [ 0.        ,  0.        ,  1.        ]]), array([[-0.99879544, -0.04906765,  2.36047117],\n",
      "       [ 0.04906765, -0.99879544,  2.76025026],\n",
      "       [ 0.        ,  0.        ,  1.        ]]), array([[-1.00000000e+00, -5.66553869e-16,  2.25773430e+00],\n",
      "       [ 5.66553869e-16, -1.00000000e+00,  2.76119995e+00],\n",
      "       [ 0.00000000e+00,  0.00000000e+00,  1.00000000e+00]]), array([[-1.00000000e+00, -5.66553869e-16,  2.13890619e+00],\n",
      "       [ 5.66553869e-16, -1.00000000e+00,  2.76119995e+00],\n",
      "       [ 0.00000000e+00,  0.00000000e+00,  1.00000000e+00]]), array([[-1.00000000e+00, -5.66553869e-16,  2.02007808e+00],\n",
      "       [ 5.66553869e-16, -1.00000000e+00,  2.76119995e+00],\n",
      "       [ 0.00000000e+00,  0.00000000e+00,  1.00000000e+00]]), array([[-1.00000000e+00, -5.66553869e-16,  1.90124997e+00],\n",
      "       [ 5.66553869e-16, -1.00000000e+00,  2.76119995e+00],\n",
      "       [ 0.00000000e+00,  0.00000000e+00,  1.00000000e+00]]), array([[-1.00000000e+00, -5.66553869e-16,  1.78242187e+00],\n",
      "       [ 5.66553869e-16, -1.00000000e+00,  2.76119995e+00],\n",
      "       [ 0.00000000e+00,  0.00000000e+00,  1.00000000e+00]]), array([[-0.99247953,  0.12241068,  1.70397073],\n",
      "       [-0.12241068, -0.99247953,  2.75694619],\n",
      "       [ 0.        ,  0.        ,  1.        ]]), array([[-0.96043052,  0.2785197 ,  1.63909813],\n",
      "       [-0.2785197 , -0.96043052,  2.74214669],\n",
      "       [ 0.        ,  0.        ,  1.        ]]), array([[-0.90398929,  0.4275551 ,  1.57740034],\n",
      "       [-0.4275551 , -0.90398929,  2.71722958],\n",
      "       [ 0.        ,  0.        ,  1.        ]]), array([[-0.82458929,  0.56573182,  1.52044432],\n",
      "       [-0.56573182, -0.82458929,  2.68282769],\n",
      "       [ 0.        ,  0.        ,  1.        ]]), array([[-0.72424707,  0.68954056,  1.46967657],\n",
      "       [-0.68954056, -0.72424707,  2.63981472],\n",
      "       [ 0.        ,  0.        ,  1.        ]]), array([[-0.60551103,  0.79583689,  1.42453647],\n",
      "       [-0.79583689, -0.60551103,  2.59089881],\n",
      "       [ 0.        ,  0.        ,  1.        ]]), array([[-0.47139672,  0.88192125,  1.3873813 ],\n",
      "       [-0.88192125, -0.47139672,  2.53569942],\n",
      "       [ 0.        ,  0.        ,  1.        ]]), array([[-0.32531027,  0.94560731,  1.35946683],\n",
      "       [-0.94560731, -0.32531027,  2.47529857],\n",
      "       [ 0.        ,  0.        ,  1.        ]]), array([[-0.17096187,  0.98527763,  1.341502  ],\n",
      "       [-0.98527763, -0.17096187,  2.41123029],\n",
      "       [ 0.        ,  0.        ,  1.        ]]), array([[-0.01227152,  0.99992468,  1.33394306],\n",
      "       [-0.99992468, -0.01227152,  2.34512173],\n",
      "       [ 0.        ,  0.        ,  1.        ]]), array([[-1.60812262e-16,  1.00000000e+00,  1.33379996e+00],\n",
      "       [-1.00000000e+00, -1.60812262e-16,  2.23031241e+00],\n",
      "       [ 0.00000000e+00,  0.00000000e+00,  1.00000000e+00]]), array([[-1.60812262e-16,  1.00000000e+00,  1.33379996e+00],\n",
      "       [-1.00000000e+00, -1.60812262e-16,  2.11148427e+00],\n",
      "       [ 0.00000000e+00,  0.00000000e+00,  1.00000000e+00]]), array([[-1.60812262e-16,  1.00000000e+00,  1.33379996e+00],\n",
      "       [-1.00000000e+00, -1.60812262e-16,  1.99265614e+00],\n",
      "       [ 0.00000000e+00,  0.00000000e+00,  1.00000000e+00]]), array([[-1.60812262e-16,  1.00000000e+00,  1.33379996e+00],\n",
      "       [-1.00000000e+00, -1.60812262e-16,  1.87382801e+00],\n",
      "       [ 0.00000000e+00,  0.00000000e+00,  1.00000000e+00]]), array([[-1.60812262e-16,  1.00000000e+00,  1.33379996e+00],\n",
      "       [-1.00000000e+00, -1.60812262e-16,  1.75499988e+00],\n",
      "       [ 0.00000000e+00,  0.00000000e+00,  1.00000000e+00]])]\n"
     ]
    }
   ],
   "source": [
    "lane_points = lane_segments_to_follow_unified.center_line_points()  # in SE(2)\n",
    "print(lane_points)"
   ]
  },
  {
   "cell_type": "markdown",
   "metadata": {
    "pycharm": {
     "name": "#%% md\n"
    }
   },
   "source": [
    "### Get the coordinates of the tile for a certain pose on the map"
   ]
  },
  {
   "cell_type": "code",
   "execution_count": 21,
   "metadata": {
    "pycharm": {
     "name": "#%%\n"
    }
   },
   "outputs": [
    {
     "name": "stdout",
     "output_type": "stream",
     "text": [
      "TileCoords(i=2,j=1,orientation=S)\n"
     ]
    }
   ],
   "source": [
    "q = lane_points[2]  # some pose\n",
    "tile_at_point = get_tile_at_point(duckie_map, q)\n",
    "print(tile_at_point)"
   ]
  },
  {
   "cell_type": "markdown",
   "metadata": {
    "pycharm": {
     "name": "#%% md\n"
    }
   },
   "source": [
    "### Get a collection of useful information for the pose in the map"
   ]
  },
  {
   "cell_type": "code",
   "execution_count": 22,
   "metadata": {
    "pycharm": {
     "name": "#%%\n"
    }
   },
   "outputs": [
    {
     "name": "stdout",
     "output_type": "stream",
     "text": [
      "[GetLanePoseResult(tile=Tile(children={'straight': PlacedObject(children={'lane1': LaneSegment(children={}, spatial_relations={}), 'lane2': LaneSegment(children={}, spatial_relations={})}, spatial_relations={'lane1': GroundTruth(() -> ('lane1',)  SE2Transform([0.0, 0.0],0.0)), 'lane2': GroundTruth(() -> ('lane2',)  SE2Transform([0.0, 0.0],180.0))})}, spatial_relations={1: GroundTruth(() -> ('straight',)  SE2Transform([0.0, 0.0],0.0))}), tile_fqn=('tilemap', 'tile-2-1'), tile_transform=TransformSequence([Scale2D(scale=0.585), TileCoords(i=2,j=1,orientation=S)]), tile_relative_pose=Matrix2D(m=[[-1.7094017e+00 -1.7022208e-16  9.3750097e-02]\n",
      " [ 1.7022208e-16 -1.7094017e+00  2.2000001e-01]\n",
      " [ 0.0000000e+00  0.0000000e+00  1.0000000e+00]]), lane_segment=LaneSegment(children={}, spatial_relations={}), lane_segment_fqn=('tilemap', 'tile-2-1', 'straight', 'lane2'), lane_pose=LanePose(inside=True,lateral_inside=True,outside_left=False,outside_right=False,lateral=-1.7453869655126297e-08,lateral_left=0.188,lateral_right=-0.188,along_inside=True,along_before=False,along_after=False,along_lane=0.40624990217212487,relative_heading=2.2884769818688326e-17,distance_from_left=0.18800001745386966,distance_from_right=0.18799998254613035,distance_from_center=1.7453869655126297e-08,center_point=SE2Transform([-0.09375009782787513, -0.2199999988079071],0.0),correct_direction=True), lane_segment_relative_pose=Matrix2D(m=[[ 1.7094017e+00 -3.9119264e-17 -9.3750097e-02]\n",
      " [ 3.9119264e-17  1.7094017e+00 -2.2000001e-01]\n",
      " [ 0.0000000e+00  0.0000000e+00  1.0000000e+00]]), tile_coords=TileCoords(i=2,j=1,orientation=S), lane_segment_transform=TransformSequence([Scale2D(scale=0.585), TileCoords(i=2,j=1,orientation=S), SE2Transform([0.0, 0.0],0.0), SE2Transform([0.0, 0.0],180.0)]), center_point=Matrix2D(m=[[ 1.7910459e-16 -5.8499998e-01  1.5912000e+00]\n",
      " [ 5.8499998e-01  1.7910459e-16  8.2265615e-01]\n",
      " [ 0.0000000e+00  0.0000000e+00  1.0000000e+00]]))]\n"
     ]
    }
   ],
   "source": [
    "lane_poses = list(get_lane_poses(duckie_map, q))\n",
    "print(lane_poses)"
   ]
  },
  {
   "cell_type": "markdown",
   "metadata": {
    "pycharm": {
     "name": "#%% md\n"
    }
   },
   "source": [
    "### Get the evaluation of a simulated sequence"
   ]
  },
  {
   "cell_type": "code",
   "execution_count": 25,
   "metadata": {
    "pycharm": {
     "name": "#%%\n"
    }
   },
   "outputs": [
    {
     "name": "stdout",
     "output_type": "stream",
     "text": [
      "deviation-heading : RuleEvaluationResult(<duckietown_world.rules.in_drivable_lane.DeviationHeading object at 0x7fbf5f8e32b0>, {(): EvaluatedMetric(Deviation from lane direction, 1.3068866785594142e-05)})\n",
      "\n",
      "in-drivable-lane : RuleEvaluationResult(<duckietown_world.rules.in_drivable_lane.InDrivableLane object at 0x7fbf5fe09310>, {(): EvaluatedMetric(Drivable areas, 0.0)})\n",
      "\n",
      "deviation-center-line : RuleEvaluationResult(<duckietown_world.rules.in_drivable_lane.DeviationFromCenterLine object at 0x7fbfc01a4f70>, {(): EvaluatedMetric(Deviation from center line, 5.973571260118465e-06)})\n",
      "\n",
      "driving-distance : RuleEvaluationResult(<duckietown_world.rules.in_drivable_lane.DrivenLength object at 0x7fbfc01a4eb0>, {('driven_any',): EvaluatedMetric(Distance, 5.1488560411039845), ('driven_lanedir',): EvaluatedMetric(Lane distance, 5.141970443702339)})\n",
      "\n",
      "driving-distance-consecutive : RuleEvaluationResult(<duckietown_world.rules.in_drivable_lane.DrivenLengthConsecutive object at 0x7fbf5ad71fa0>, {('driven_lanedir_consec',): EvaluatedMetric(Consecutive lane distance, 5.141867181396308)})\n",
      "\n",
      "survival_time : RuleEvaluationResult(<duckietown_world.rules.in_drivable_lane.SurvivalTime object at 0x7fbf5ad52fd0>, {(): EvaluatedMetric(Survival time, 99.0)})\n",
      "\n"
     ]
    }
   ],
   "source": [
    "timestamps_as_floats = list(map(float, timestamps))  # timestamps have to be floats for it to work\n",
    "evaluated_rules = evaluate_rules(\n",
    "    poses_sequence=ground_truth,\n",
    "    interval=dw.SampledSequence[dw.Timestamp](timestamps_as_floats, timestamps_as_floats),\n",
    "    world=duckie_map,\n",
    "    ego_name=\"Duckie\"\n",
    ")\n",
    "for key, item in evaluated_rules.items():\n",
    "    print(f\"{key} : {item}\\n\")"
   ]
  },
  {
   "cell_type": "markdown",
   "metadata": {
    "pycharm": {
     "name": "#%% md\n"
    }
   },
   "source": [
    "### Get a LanePose for a certain pose with very detailed information\n",
    "\n",
    "Information about the \"position in the lane\"\n",
    "Am I inside the lane? If not why not?"
   ]
  },
  {
   "cell_type": "code",
   "execution_count": 24,
   "metadata": {
    "pycharm": {
     "name": "#%%\n"
    }
   },
   "outputs": [
    {
     "name": "stdout",
     "output_type": "stream",
     "text": [
      "LanePose(inside=True,lateral_inside=True,outside_left=False,outside_right=False,lateral=0.0,lateral_left=0.10997999596595764,lateral_right=-0.10997999596595764,along_inside=True,along_before=False,along_after=False,along_lane=0.2376268703930273,relative_heading=0.0,distance_from_left=0.10997999596595764,distance_from_right=0.10997999596595764,distance_from_center=0.0,center_point=SE2Transform([1.5911999940872192, 0.8226267893307104],90.0),correct_direction=True)\n",
      "\n",
      "\n",
      "True\n",
      "\n",
      "\n",
      "True\n"
     ]
    }
   ],
   "source": [
    "lane_pose = lane_segments_to_follow_unified.lane_pose_from_SE2(q)\n",
    "print(lane_pose)\n",
    "print(\"\\n\")\n",
    "print(lane_pose.inside)\n",
    "print(\"\\n\")\n",
    "print(lane_pose.correct_direction)"
   ]
  }
 ],
 "metadata": {
  "kernelspec": {
   "display_name": "Python 3",
   "language": "python",
   "name": "python3"
  },
  "language_info": {
   "codemirror_mode": {
    "name": "ipython",
    "version": 3
   },
   "file_extension": ".py",
   "mimetype": "text/x-python",
   "name": "python",
   "nbconvert_exporter": "python",
   "pygments_lexer": "ipython3",
   "version": "3.8.5"
  }
 },
 "nbformat": 4,
 "nbformat_minor": 1
}