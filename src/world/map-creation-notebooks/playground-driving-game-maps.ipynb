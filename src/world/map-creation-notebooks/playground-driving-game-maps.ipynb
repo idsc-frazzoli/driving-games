{
 "cells": [
  {
   "cell_type": "markdown",
   "metadata": {},
   "source": [
    "### Set if you work in pycharm or in native jupyter environment (recommended): used for plotting"
   ]
  },
  {
   "cell_type": "code",
   "execution_count": 1,
   "metadata": {
    "pycharm": {
     "name": "#%% define if working in pycharm or native jupyter notebook environment\n"
    }
   },
   "outputs": [],
   "source": [
    "IN_PYCHARM : bool = False"
   ]
  },
  {
   "cell_type": "markdown",
   "metadata": {},
   "source": [
    "### Preliminary imports and settings"
   ]
  },
  {
   "cell_type": "code",
   "execution_count": 2,
   "metadata": {},
   "outputs": [
    {
     "name": "stderr",
     "output_type": "stream",
     "text": [
      "INFO:geometry:version: 2.0.5\n",
      "INFO:commons:version: 6.1.5\n",
      "INFO:typing:version: 6.1.8\n",
      "DEBUG:duckietown_world:duckietown-world version 6.2.7 path /home/chrigi/Master-Thesis-Code/driving-games/venv/lib/python3.8/site-packages\n"
     ]
    },
    {
     "ename": "ModuleNotFoundError",
     "evalue": "No module named 'duckie_games.map_loading'",
     "output_type": "error",
     "traceback": [
      "\u001B[0;31m---------------------------------------------------------------------------\u001B[0m",
      "\u001B[0;31mModuleNotFoundError\u001B[0m                       Traceback (most recent call last)",
      "\u001B[0;32m<ipython-input-2-772945f2dfa9>\u001B[0m in \u001B[0;36m<module>\u001B[0;34m\u001B[0m\n\u001B[1;32m     16\u001B[0m \u001B[0;32mfrom\u001B[0m \u001B[0mduckietown_world\u001B[0m\u001B[0;34m.\u001B[0m\u001B[0mrules\u001B[0m\u001B[0;34m.\u001B[0m\u001B[0mrule\u001B[0m \u001B[0;32mimport\u001B[0m \u001B[0mevaluate_rules\u001B[0m\u001B[0;34m\u001B[0m\u001B[0;34m\u001B[0m\u001B[0m\n\u001B[1;32m     17\u001B[0m \u001B[0;34m\u001B[0m\u001B[0m\n\u001B[0;32m---> 18\u001B[0;31m \u001B[0;32mfrom\u001B[0m \u001B[0mduckie_games\u001B[0m\u001B[0;34m.\u001B[0m\u001B[0mmap_loading\u001B[0m \u001B[0;32mimport\u001B[0m \u001B[0mload_driving_game_map\u001B[0m\u001B[0;34m\u001B[0m\u001B[0;34m\u001B[0m\u001B[0m\n\u001B[0m\u001B[1;32m     19\u001B[0m \u001B[0;34m\u001B[0m\u001B[0m\n\u001B[1;32m     20\u001B[0m \u001B[0;31m# Some settings\u001B[0m\u001B[0;34m\u001B[0m\u001B[0;34m\u001B[0m\u001B[0;34m\u001B[0m\u001B[0m\n",
      "\u001B[0;31mModuleNotFoundError\u001B[0m: No module named 'duckie_games.map_loading'"
     ]
    }
   ],
   "source": [
    "# Imports\n",
    "from math import isclose\n",
    "from copy import deepcopy\n",
    "from IPython.display import clear_output\n",
    "import networkx as nx\n",
    "import numpy as np\n",
    "from matplotlib import pyplot as plt\n",
    "\n",
    "import contracts\n",
    "import geometry as geo\n",
    "\n",
    "import duckietown_world as dw\n",
    "from duckietown_world.svg_drawing.ipython_utils import ipython_draw_html, ipython_draw_svg\n",
    "from duckietown_world.world_duckietown.tile import get_lane_poses\n",
    "from duckietown_world.world_duckietown.tile_utils import get_tile_at_point\n",
    "from duckietown_world.rules.rule import evaluate_rules\n",
    "\n",
    "from world.map_loading import load_driving_game_map\n",
    "from world.skeleton_graph import get_skeleton_graph\n",
    "from world.utils import get_lane_from_node_sequence\n",
    "\n",
    "# Some settings\n",
    "contracts.disable_all()\n",
    "dw.logger.setLevel(50)\n",
    "d = \"out/\"\n",
    "\n",
    "class Person(dw.PlacedObject):\n",
    "\n",
    "    def __init__(self, radius, *args, **kwargs):\n",
    "        self.radius = radius\n",
    "        dw.PlacedObject.__init__(self, *args, **kwargs)\n",
    "\n",
    "    def draw_svg(self, drawing, g):\n",
    "        # drawing is done using the library svgwrite\n",
    "        c = drawing.circle(center=(0, 0), r=self.radius, fill='red')\n",
    "        g.add(c)\n",
    "        # draws x,y axes\n",
    "        dw.draw_axes(drawing, g)\n",
    "\n",
    "    def extent_points(self):\n",
    "        # set of points describing the boundary\n",
    "        L = self.radius\n",
    "        return [(-L, -L), (+L, +L)]"
   ]
  },
  {
   "cell_type": "markdown",
   "metadata": {
    "pycharm": {
     "name": "#%% md\n"
    }
   },
   "source": [
    "### Define some useful functions"
   ]
  },
  {
   "cell_type": "code",
   "execution_count": null,
   "metadata": {
    "pycharm": {
     "name": "#%%\n"
    }
   },
   "outputs": [],
   "source": [
    "def draw_object(pl_ob: dw.PlacedObject, outdir=None, area=None, in_pycharm: bool = IN_PYCHARM):\n",
    "    if in_pycharm:\n",
    "        ipython_draw_html(po=pl_ob, outdir=outdir, area=area)\n",
    "        clear_output(wait=True)\n",
    "        ipython_draw_svg(m=pl_ob, outdir=outdir)\n",
    "    else:\n",
    "        ipython_draw_html(po=pl_ob, outdir=outdir, area=area)\n",
    "\n",
    "def draw_graph(G0, pos=None):\n",
    "    pos = pos or nx.spring_layout(G0)\n",
    "    plt.figure(figsize=(12, 12))\n",
    "    nx.draw(G0,pos,labels={node:node for node in G0.nodes()})\n",
    "    def edge_label(a, b):\n",
    "        datas = G0.get_edge_data(a, b)\n",
    "        s = '%d edge%s' % (len(datas), 's' if len(datas)>=2 else '')\n",
    "        for k, v in datas.items():\n",
    "            if v:\n",
    "                if 'label' in v:\n",
    "                    s += '\\n %s' % v['label']\n",
    "                else:\n",
    "                    s += '\\n %s' %v\n",
    "        return s\n",
    "    edge_labels = dict([ ((a,b), edge_label(a,b)) for a,b in G0.edges()])\n",
    "    nx.draw_networkx_edge_labels(G0,pos,edge_labels=edge_labels,font_color='red')\n",
    "    plt.axis('off')\n",
    "    plt.show()"
   ]
  },
  {
   "cell_type": "markdown",
   "metadata": {
    "pycharm": {
     "name": "#%% md\n"
    }
   },
   "source": [
    "### Better Visualisation of output"
   ]
  },
  {
   "cell_type": "code",
   "execution_count": null,
   "metadata": {
    "pycharm": {
     "name": "#%%\n"
    }
   },
   "outputs": [],
   "source": [
    "%%html\n",
    "<style>\n",
    "pre {line-height: 90%}\n",
    "</style>"
   ]
  },
  {
   "cell_type": "markdown",
   "metadata": {
    "pycharm": {
     "name": "#%% md\n"
    }
   },
   "source": [
    "### Import and draw the map"
   ]
  },
  {
   "cell_type": "code",
   "execution_count": null,
   "metadata": {
    "pycharm": {
     "name": "#%%\n"
    }
   },
   "outputs": [],
   "source": [
    "map_name = \"4way-double-intersection-only\"\n",
    "dirname = d + map_name\n",
    "duckie_map = load_driving_game_map(map_name)\n",
    "draw_object(duckie_map, outdir=dirname)"
   ]
  },
  {
   "cell_type": "markdown",
   "metadata": {
    "pycharm": {
     "name": "#%% md\n"
    }
   },
   "source": [
    "### Get skeleton graph (contains the lane segments and the graph interconnecting them)"
   ]
  },
  {
   "cell_type": "code",
   "execution_count": null,
   "metadata": {
    "pycharm": {
     "name": "#%%\n"
    }
   },
   "outputs": [],
   "source": [
    "skeleton_graph = get_skeleton_graph(duckie_map)"
   ]
  },
  {
   "cell_type": "markdown",
   "metadata": {
    "pycharm": {
     "name": "#%% md\n"
    }
   },
   "source": [
    "### Get the map of the joined lane segments and draw it (check box \"map lane segments\" to see it)"
   ]
  },
  {
   "cell_type": "code",
   "execution_count": null,
   "metadata": {
    "pycharm": {
     "name": "#%%\n"
    }
   },
   "outputs": [],
   "source": [
    "joined_lane_segments = skeleton_graph.root2\n",
    "\n",
    "dirname = d + \"4wayjoinedlane\"\n",
    "draw_object(joined_lane_segments, outdir=dirname)"
   ]
  },
  {
   "cell_type": "markdown",
   "metadata": {
    "pycharm": {
     "name": "#%% md\n"
    }
   },
   "source": [
    "### Get the graph of the topology"
   ]
  },
  {
   "cell_type": "code",
   "execution_count": null,
   "metadata": {
    "pycharm": {
     "name": "#%%\n"
    }
   },
   "outputs": [],
   "source": [
    "topology_graph = skeleton_graph.G"
   ]
  },
  {
   "cell_type": "markdown",
   "metadata": {
    "pycharm": {
     "name": "#%% md\n"
    }
   },
   "source": [
    "### Draw the graph"
   ]
  },
  {
   "cell_type": "code",
   "execution_count": null,
   "metadata": {
    "pycharm": {
     "name": "#%%\n"
    }
   },
   "outputs": [],
   "source": [
    "pos = {}\n",
    "for n in topology_graph:\n",
    "    q = topology_graph.nodes[n]['point'].as_SE2()\n",
    "    t, _ = geo.translation_angle_from_SE2(q)\n",
    "    pos[n] = t\n",
    "draw_graph(topology_graph, pos=pos)"
   ]
  },
  {
   "cell_type": "markdown",
   "metadata": {
    "pycharm": {
     "name": "#%% md\n"
    }
   },
   "source": [
    "### Extract the shortest path from a start node to an end node as list"
   ]
  },
  {
   "cell_type": "code",
   "execution_count": null,
   "metadata": {
    "pycharm": {
     "name": "#%%\n"
    }
   },
   "outputs": [],
   "source": [
    "start = \"P30\"\n",
    "end = \"P9\"\n",
    "\n",
    "path = nx.shortest_path(topology_graph, start, end)\n",
    "\n",
    "def get_lanes(path, graph):\n",
    "    edges = zip(path[:-1], path[1:])\n",
    "    lanes =[]\n",
    "    for a, b in edges:\n",
    "        lane = graph.get_edge_data(a, b)[0]['lane']\n",
    "        lanes.append(lane)\n",
    "    return lanes\n",
    "\n",
    "lanes = get_lanes(path, topology_graph)\n",
    "print(lanes)"
   ]
  },
  {
   "cell_type": "markdown",
   "metadata": {},
   "source": [
    "### Extract the lane segments and draw them"
   ]
  },
  {
   "cell_type": "code",
   "execution_count": null,
   "metadata": {
    "pycharm": {
     "name": "#%%\n"
    }
   },
   "outputs": [],
   "source": [
    "lane_segments_to_follow = [joined_lane_segments.children[lane_name] for lane_name in lanes]\n",
    "\n",
    "lane_points = []\n",
    "po = dw.PlacedObject()\n",
    "for lane_name, lane in zip(lanes, lane_segments_to_follow):\n",
    "    po.set_object(lane_name, lane, ground_truth=dw.SE2Transform.identity())\n",
    "\n",
    "dirname = d + \"extractedlane\"\n",
    "draw_object(po, outdir = dirname)"
   ]
  },
  {
   "cell_type": "markdown",
   "metadata": {},
   "source": [
    "### Get the width of one of the lane segments"
   ]
  },
  {
   "cell_type": "code",
   "execution_count": null,
   "metadata": {
    "pycharm": {
     "name": "#%%\n"
    }
   },
   "outputs": [],
   "source": [
    "width = lane_segments_to_follow[0].width"
   ]
  },
  {
   "cell_type": "markdown",
   "metadata": {},
   "source": [
    "### Merge the extracted lane segments to have one unified lane"
   ]
  },
  {
   "cell_type": "code",
   "execution_count": null,
   "metadata": {
    "pycharm": {
     "name": "#%%\n"
    }
   },
   "outputs": [],
   "source": [
    "import itertools as it\n",
    "\n",
    "# Make a list of all the control points, while making sure that the points that overlap are only taken once\n",
    "lane_segments_to_follow_control_points = list(\n",
    "    it.chain(\n",
    "        *[ls.control_points[:-1] if ls is not lane_segments_to_follow[-1]\n",
    "          else ls.control_points for ls in lane_segments_to_follow]\n",
    "    )\n",
    ")\n",
    "\n",
    "# Creating a unified lane segment\n",
    "lane_segments_to_follow_unified = dw.LaneSegment(\n",
    "    width=width, control_points=lane_segments_to_follow_control_points\n",
    ")\n",
    "\n",
    "# Draw the unified lane segment\n",
    "po = dw.PlacedObject()\n",
    "po.set_object(\"Unified Lane\", lane_segments_to_follow_unified, ground_truth=dw.SE2Transform.identity())\n",
    "dirname = d + \"unified_lane\"\n",
    "draw_object(po, outdir=dirname)"
   ]
  },
  {
   "cell_type": "markdown",
   "metadata": {},
   "source": [
    "### Check if the merged lane has the same total length as the sum of its parts"
   ]
  },
  {
   "cell_type": "code",
   "execution_count": null,
   "metadata": {
    "pycharm": {
     "name": "#%%\n"
    }
   },
   "outputs": [],
   "source": [
    "sum_lane_lengths = sum([ln.get_lane_length() for ln in lane_segments_to_follow])\n",
    "sum_lane_segmenst_unified = lane_segments_to_follow_unified.get_lane_length()\n",
    "msg = f\"Lanes have not the same lenght: {sum_lane_lengths} is not {sum_lane_segmenst_unified}\"\n",
    "assert isclose(sum_lane_segmenst_unified , sum_lane_lengths, abs_tol=1e-5), msg"
   ]
  },
  {
   "cell_type": "markdown",
   "metadata": {},
   "source": [
    "### All of the above has been unified in one function"
   ]
  },
  {
   "cell_type": "code",
   "execution_count": null,
   "metadata": {},
   "outputs": [],
   "source": [
    "lane_segments_to_follow_unified = get_lane_from_node_sequence(m=duckie_map, node_sequence=[start, end])\n",
    "\n",
    "# Draw the unified lane segment again\n",
    "po = dw.PlacedObject()\n",
    "po.set_object(\"Unified Lane\", lane_segments_to_follow_unified, ground_truth=dw.SE2Transform.identity())\n",
    "dirname = d + \"unified_lane\"\n",
    "draw_object(po, outdir=dirname)"
   ]
  },
  {
   "cell_type": "markdown",
   "metadata": {},
   "source": [
    "### It is also possible to give a longer node sequence (if nodes are skipped shortest path is computed)"
   ]
  },
  {
   "cell_type": "code",
   "execution_count": null,
   "metadata": {
    "pycharm": {
     "name": "#%%\n"
    }
   },
   "outputs": [],
   "source": [
    "node_sequence = ['P30', 'P21', 'P10', 'P9']\n",
    "lane_segments_to_follow_unified = get_lane_from_node_sequence(m=duckie_map, node_sequence=node_sequence)\n",
    "\n",
    "# Draw the unified lane segment again\n",
    "po = dw.PlacedObject()\n",
    "po.set_object(\"Unified Lane\", lane_segments_to_follow_unified, ground_truth=dw.SE2Transform.identity())\n",
    "dirname = d + \"unified_lane\"\n",
    "draw_object(po, outdir=dirname)"
   ]
  },
  {
   "cell_type": "markdown",
   "metadata": {},
   "source": [
    "### Get a person to follow the lane"
   ]
  },
  {
   "cell_type": "code",
   "execution_count": null,
   "metadata": {
    "pycharm": {
     "name": "#%%\n"
    }
   },
   "outputs": [],
   "source": [
    "big_duckie = Person(width / 2)"
   ]
  },
  {
   "cell_type": "markdown",
   "metadata": {},
   "source": [
    "### Interpolate along the center line"
   ]
  },
  {
   "cell_type": "code",
   "execution_count": null,
   "metadata": {
    "pycharm": {
     "name": "#%%\n"
    }
   },
   "outputs": [],
   "source": [
    "npoints = len(lane_segments_to_follow_unified.control_points) # get the control points of the lane\n",
    "points = 15\n",
    "betas = list(np.linspace(0, npoints-1, points))  # first control point beta=0, last control point beta=nbpoints-1\n",
    "\n",
    "transforms = []\n",
    "for beta in betas:\n",
    "    p = lane_segments_to_follow_unified.center_point(beta)  # get interpolated pose in SE(2)\n",
    "    transform = dw.SE2Transform.from_SE2(p)  # Transform to SE2Transform\n",
    "    transforms.append(transform)\n",
    "\n",
    "ground_truth = dw.SampledSequence[dw.SE2Transform](betas, transforms) # Setting the sequence for animation\n",
    "duckie_map_lanefollow = deepcopy(duckie_map)  # copy the map  to prevent adding objects to the \"original\" map\n",
    "duckie_map_lanefollow.set_object(\"Duckie\", big_duckie, ground_truth=ground_truth) # add a duckie with the sequence\n",
    "dirname = d + \"lane_follow_unified\"\n",
    "draw_object(duckie_map_lanefollow, outdir=dirname)"
   ]
  },
  {
   "cell_type": "markdown",
   "metadata": {},
   "source": [
    "### Define functions to interpolate along the centerlines when the position along the lane is known (in utils.py)"
   ]
  },
  {
   "cell_type": "code",
   "execution_count": null,
   "metadata": {
    "pycharm": {
     "name": "#%% interpolate by velocity\n"
    }
   },
   "outputs": [],
   "source": [
    "from typing import List\n",
    "\n",
    "def interpolate_along_lane(lane: dw.LaneSegment, along_lane: float) -> dw.SE2Transform:\n",
    "    \"\"\" Input: lane and 1D position along the lane. Output: Pose on the duckietown map \"\"\"\n",
    "    dw_beta = lane.beta_from_along_lane(along_lane=along_lane)  # get the beta in in the dw representation\n",
    "    p = lane.center_point(dw_beta)  # get pose\n",
    "    transform = dw.SE2Transform.from_SE2(p)\n",
    "    return transform\n",
    "\n",
    "def interpolate_along_lane_n_points(\n",
    "    lane: dw.LaneSegment,\n",
    "    positions_along_lane: List[float]\n",
    ") -> List[dw.SE2Transform]:\n",
    "    \"\"\" Input: lane and sequence of 1D positions along the lane. Output: Pose sequence on the duckietown map \"\"\"\n",
    "    msg = f\"Positions={positions_along_lane} have to be in ascending order to follow a lane\"\n",
    "    assert all(map(isclose, sorted(positions_along_lane), positions_along_lane)), msg\n",
    "    transforms = [interpolate_along_lane(lane, along_lane) for along_lane in positions_along_lane]\n",
    "    return transforms"
   ]
  },
  {
   "cell_type": "markdown",
   "metadata": {
    "pycharm": {
     "name": "#%% md\n"
    }
   },
   "source": [
    "### Test functions"
   ]
  },
  {
   "cell_type": "code",
   "execution_count": null,
   "metadata": {
    "pycharm": {
     "name": "#%%\n"
    }
   },
   "outputs": [],
   "source": [
    "max_length = lane_segments_to_follow_unified.get_lane_length()  # get total length of the lane\n",
    "points = 100  # number of points to interpolate\n",
    "positions_along_lane = list(np.linspace(0, max_length, points))  # sequence of 1D position along the lane\n",
    "timestamps = range(points) # just number of points\n",
    "transforms = interpolate_along_lane_n_points(lane_segments_to_follow_unified, positions_along_lane)\n",
    "\n",
    "# Animation\n",
    "ground_truth = dw.SampledSequence[dw.SE2Transform](timestamps, transforms)\n",
    "duckie_map_lanefollow = deepcopy(duckie_map)\n",
    "duckie_map_lanefollow.set_object(\"Duckie\", big_duckie, ground_truth=ground_truth)\n",
    "dirname = d + \"lane_follow_along_lane_interpolated\"\n",
    "draw_object(duckie_map_lanefollow, outdir=dirname)"
   ]
  },
  {
   "cell_type": "markdown",
   "source": [
    "### Define functions to interpolate along center line beta=0 start beta=1 end (in utils.py)"
   ],
   "metadata": {
    "collapsed": false
   }
  },
  {
   "cell_type": "code",
   "execution_count": null,
   "outputs": [],
   "source": [
    "def interpolate(lane: dw.LaneSegment, beta: float) -> dw.SE2Transform:\n",
    "    \"\"\" Interpolate along the centerline of a lane. Start: beta=0, End beta=1 \"\"\"\n",
    "    lane_length = lane.get_lane_length() # get the length of the lane\n",
    "    along_lane = beta * lane_length # get the corresponding position along the lane\n",
    "    transform = interpolate_along_lane(lane=lane, along_lane=along_lane)\n",
    "    return transform\n",
    "\n",
    "def interpolate_n_points(lane: dw.LaneSegment, betas: List[float]) -> List[dw.SE2Transform]:\n",
    "    \"\"\" Get pose sequence as a SE2Transform along the center line of a lane, beta=0 start beta=1 end \"\"\"\n",
    "    msg = f\"betas = {betas} have to be in ascending order to follow a lane\"\n",
    "    assert all(map(isclose, sorted(betas), betas)), msg  # check if values are ascending\n",
    "    transforms = [interpolate(lane, beta) for beta in betas]\n",
    "    return transforms\n"
   ],
   "metadata": {
    "collapsed": false,
    "pycharm": {
     "name": "#%%\n"
    }
   }
  },
  {
   "cell_type": "markdown",
   "source": [
    "### Test the functions"
   ],
   "metadata": {
    "collapsed": false
   }
  },
  {
   "cell_type": "code",
   "execution_count": null,
   "outputs": [],
   "source": [
    "points = 60 # number of interpolation points\n",
    "betas = list(np.linspace(0,1,points))\n",
    "timestamps = range(points)\n",
    "transforms = interpolate_n_points(lane_segments_to_follow_unified, betas)  # get the pose sequence\n",
    "\n",
    "# Animation\n",
    "ground_truth = dw.SampledSequence[dw.SE2Transform](timestamps, transforms)\n",
    "duckie_map_lanefollow = deepcopy(duckie_map)\n",
    "duckie_map_lanefollow.set_object(\"Duckie\", big_duckie, ground_truth=ground_truth)\n",
    "dirname = d + \"lane_follow_interpolated\"\n",
    "draw_object(duckie_map_lanefollow, outdir=dirname)\n"
   ],
   "metadata": {
    "collapsed": false,
    "pycharm": {
     "name": "#%%\n"
    }
   }
  },
  {
   "cell_type": "markdown",
   "metadata": {
    "pycharm": {
     "name": "#%% md\n"
    }
   },
   "source": [
    "## Collection of other useful functions\n",
    "\n",
    "### Sample some center line points of a lane (default 5 points)"
   ]
  },
  {
   "cell_type": "code",
   "execution_count": null,
   "metadata": {
    "pycharm": {
     "name": "#%%\n"
    }
   },
   "outputs": [],
   "source": [
    "lane_points = lane_segments_to_follow_unified.center_line_points()  # in SE(2)\n",
    "print(lane_points)"
   ]
  },
  {
   "cell_type": "markdown",
   "metadata": {
    "pycharm": {
     "name": "#%% md\n"
    }
   },
   "source": [
    "### Get the coordinates of the tile for a certain pose on the map"
   ]
  },
  {
   "cell_type": "code",
   "execution_count": null,
   "metadata": {
    "pycharm": {
     "name": "#%%\n"
    }
   },
   "outputs": [],
   "source": [
    "q = lane_points[2]  # some pose\n",
    "tile_at_point = get_tile_at_point(duckie_map, q)\n",
    "print(tile_at_point)"
   ]
  },
  {
   "cell_type": "markdown",
   "metadata": {
    "pycharm": {
     "name": "#%% md\n"
    }
   },
   "source": [
    "### Get a collection of useful information for the pose in the map"
   ]
  },
  {
   "cell_type": "code",
   "execution_count": null,
   "metadata": {
    "pycharm": {
     "name": "#%%\n"
    }
   },
   "outputs": [],
   "source": [
    "lane_poses = list(get_lane_poses(duckie_map, q))\n",
    "print(lane_poses)"
   ]
  },
  {
   "cell_type": "markdown",
   "metadata": {
    "pycharm": {
     "name": "#%% md\n"
    }
   },
   "source": [
    "### Get the evaluation of a simulated sequence"
   ]
  },
  {
   "cell_type": "code",
   "execution_count": null,
   "metadata": {
    "pycharm": {
     "name": "#%%\n"
    }
   },
   "outputs": [],
   "source": [
    "timestamps_as_floats = list(map(float, timestamps))  # timestamps have to be floats for it to work\n",
    "evaluated_rules = evaluate_rules(\n",
    "    poses_sequence=ground_truth,\n",
    "    interval=dw.SampledSequence[dw.Timestamp](timestamps_as_floats, timestamps_as_floats),\n",
    "    world=duckie_map,\n",
    "    ego_name=\"Duckie\"\n",
    ")\n",
    "for key, item in evaluated_rules.items():\n",
    "    print(f\"{key} : {item}\\n\")"
   ]
  },
  {
   "cell_type": "markdown",
   "metadata": {
    "pycharm": {
     "name": "#%% md\n"
    }
   },
   "source": [
    "### Get a LanePose for a certain pose with very detailed information\n",
    "\n",
    "Information about the \"position in the lane\"\n",
    "Am I inside the lane? If not why not?"
   ]
  },
  {
   "cell_type": "code",
   "execution_count": null,
   "metadata": {
    "pycharm": {
     "name": "#%%\n"
    }
   },
   "outputs": [],
   "source": [
    "lane_pose = lane_segments_to_follow_unified.lane_pose_from_SE2(q)\n",
    "print(lane_pose)\n",
    "print(\"\\n\")\n",
    "print(lane_pose.inside)\n",
    "print(\"\\n\")\n",
    "print(lane_pose.correct_direction)"
   ]
  }
 ],
 "metadata": {
  "kernelspec": {
   "display_name": "Python 3",
   "language": "python",
   "name": "python3"
  },
  "language_info": {
   "codemirror_mode": {
    "name": "ipython",
    "version": 3
   },
   "file_extension": ".py",
   "mimetype": "text/x-python",
   "name": "python",
   "nbconvert_exporter": "python",
   "pygments_lexer": "ipython3",
   "version": "3.8.5"
  }
 },
 "nbformat": 4,
 "nbformat_minor": 1
}