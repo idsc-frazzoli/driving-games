{
 "cells": [
  {
   "cell_type": "markdown",
   "metadata": {},
   "source": [
    "### Set if you work in pycharm or in native jupyter environment (recommended): used for plotting"
   ]
  },
  {
   "cell_type": "code",
   "execution_count": 28,
   "metadata": {
    "pycharm": {
     "name": "#%% define if working in pycharm or native jupyter notebook environment\n"
    }
   },
   "outputs": [],
   "source": [
    "IN_PYCHARM : bool = False"
   ]
  },
  {
   "cell_type": "markdown",
   "metadata": {},
   "source": [
    "### Preliminary imports and settings"
   ]
  },
  {
   "cell_type": "code",
   "execution_count": 29,
   "metadata": {},
   "outputs": [],
   "source": [
    "# Imports\n",
    "from math import isclose\n",
    "from copy import deepcopy\n",
    "from IPython.display import clear_output\n",
    "import networkx as nx\n",
    "import numpy as np\n",
    "from matplotlib import pyplot as plt\n",
    "%matplotlib inline\n",
    "\n",
    "import contracts\n",
    "import geometry as geo\n",
    "\n",
    "import duckietown_world as dw\n",
    "from duckietown_world.svg_drawing.ipython_utils import ipython_draw_html, ipython_draw_svg\n",
    "from duckietown_world.world_duckietown.tile import get_lane_poses\n",
    "from duckietown_world.world_duckietown.tile_utils import get_tile_at_point\n",
    "from duckietown_world.rules.rule import evaluate_rules\n",
    "\n",
    "from world.map_loading import load_driving_game_map\n",
    "from world.skeleton_graph import get_skeleton_graph\n",
    "from world.utils import get_lane_from_node_sequence\n",
    "\n",
    "# Some settings\n",
    "contracts.disable_all()\n",
    "dw.logger.setLevel(50)\n",
    "d = \"out/\"\n",
    "\n",
    "class Person(dw.PlacedObject):\n",
    "\n",
    "    def __init__(self, radius, *args, **kwargs):\n",
    "        self.radius = radius\n",
    "        dw.PlacedObject.__init__(self, *args, **kwargs)\n",
    "\n",
    "    def draw_svg(self, drawing, g):\n",
    "        # drawing is done using the library svgwrite\n",
    "        c = drawing.circle(center=(0, 0), r=self.radius, fill='red')\n",
    "        g.add(c)\n",
    "        # draws x,y axes\n",
    "        dw.draw_axes(drawing, g)\n",
    "\n",
    "    def extent_points(self):\n",
    "        # set of points describing the boundary\n",
    "        L = self.radius\n",
    "        return [(-L, -L), (+L, +L)]"
   ]
  },
  {
   "cell_type": "markdown",
   "metadata": {
    "pycharm": {
     "name": "#%% md\n"
    }
   },
   "source": [
    "### Define some useful functions"
   ]
  },
  {
   "cell_type": "code",
   "execution_count": 30,
   "metadata": {
    "pycharm": {
     "name": "#%%\n"
    }
   },
   "outputs": [],
   "source": [
    "def draw_object(pl_ob: dw.PlacedObject, outdir=None, area=None, in_pycharm: bool = IN_PYCHARM):\n",
    "    if in_pycharm:\n",
    "        ipython_draw_html(po=pl_ob, outdir=outdir, area=area)\n",
    "        clear_output(wait=True)\n",
    "        ipython_draw_svg(m=pl_ob, outdir=outdir)\n",
    "    else:\n",
    "        ipython_draw_html(po=pl_ob, outdir=outdir, area=area)\n",
    "\n",
    "def draw_graph(G0, pos=None):\n",
    "    pos = pos or nx.spring_layout(G0)\n",
    "    plt.figure(figsize=(12, 12))\n",
    "    nx.draw(G0,pos,labels={node:node for node in G0.nodes()})\n",
    "    def edge_label(a, b):\n",
    "        datas = G0.get_edge_data(a, b)\n",
    "        s = '%d edge%s' % (len(datas), 's' if len(datas)>=2 else '')\n",
    "        for k, v in datas.items():\n",
    "            if v:\n",
    "                if 'label' in v:\n",
    "                    s += '\\n %s' % v['label']\n",
    "                else:\n",
    "                    s += '\\n %s' %v\n",
    "        return s\n",
    "    edge_labels = dict([ ((a,b), edge_label(a,b)) for a,b in G0.edges()])\n",
    "    nx.draw_networkx_edge_labels(G0,pos,edge_labels=edge_labels,font_color='red')\n",
    "    plt.axis('off')\n",
    "    plt.show()"
   ]
  },
  {
   "cell_type": "markdown",
   "metadata": {
    "pycharm": {
     "name": "#%% md\n"
    }
   },
   "source": [
    "### Better Visualisation of output"
   ]
  },
  {
   "cell_type": "code",
   "execution_count": 31,
   "metadata": {
    "pycharm": {
     "name": "#%%\n"
    }
   },
   "outputs": [
    {
     "data": {
      "text/html": [
       "<style>\n",
       "pre {line-height: 90%}\n",
       "</style>\n"
      ],
      "text/plain": [
       "<IPython.core.display.HTML object>"
      ]
     },
     "metadata": {},
     "output_type": "display_data"
    }
   ],
   "source": [
    "%%html\n",
    "<style>\n",
    "pre {line-height: 90%}\n",
    "</style>"
   ]
  },
  {
   "cell_type": "markdown",
   "metadata": {
    "pycharm": {
     "name": "#%% md\n"
    }
   },
   "source": [
    "### Import and draw the map"
   ]
  },
  {
   "cell_type": "code",
   "execution_count": 38,
   "metadata": {
    "pycharm": {
     "name": "#%%\n"
    }
   },
   "outputs": [
    {
     "name": "stderr",
     "output_type": "stream",
     "text": [
      "INFO:duckietown_world: \u001B[2marea\u001B[0m: RectangularArea(pmin=[-3.36043103e-16 -5.04064614e-16],pmax=[28. 28.])\n",
      "DEBUG:commons.fs:Written 0.3MB to: out/roundabout-only/drawing.html\n",
      "INFO:duckietown_world:Written SVG\n",
      " \u001B[2mfn_svg\u001B[0m: out/roundabout-only/drawing.svg\n"
     ]
    },
    {
     "data": {
      "text/html": [
       "\n",
       "        <iframe\n",
       "            width=\"100%\"\n",
       "            height=\"600\"\n",
       "            src=\"out/roundabout-only/drawing.html\"\n",
       "            frameborder=\"0\"\n",
       "            allowfullscreen\n",
       "        ></iframe>\n",
       "        "
      ],
      "text/plain": [
       "<IPython.lib.display.IFrame at 0x7fe638189490>"
      ]
     },
     "metadata": {},
     "output_type": "display_data"
    }
   ],
   "source": [
    "map_name = \"roundabout-only\"\n",
    "dirname = d + map_name\n",
    "duckie_map = load_driving_game_map(map_name)\n",
    "draw_object(duckie_map, outdir=dirname)"
   ]
  },
  {
   "cell_type": "markdown",
   "metadata": {
    "pycharm": {
     "name": "#%% md\n"
    }
   },
   "source": [
    "### Get skeleton graph (contains the lane segments and the graph interconnecting them)"
   ]
  },
  {
   "cell_type": "code",
   "execution_count": 39,
   "metadata": {
    "pycharm": {
     "name": "#%%\n"
    }
   },
   "outputs": [],
   "source": [
    "skeleton_graph = get_skeleton_graph(duckie_map)"
   ]
  },
  {
   "cell_type": "markdown",
   "metadata": {
    "pycharm": {
     "name": "#%% md\n"
    }
   },
   "source": [
    "### Get the map of the joined lane segments and draw it (check box \"map lane segments\" to see it)"
   ]
  },
  {
   "cell_type": "code",
   "execution_count": 40,
   "metadata": {
    "pycharm": {
     "name": "#%%\n"
    }
   },
   "outputs": [
    {
     "name": "stderr",
     "output_type": "stream",
     "text": [
      "INFO:duckietown_world: \u001B[2marea\u001B[0m: RectangularArea(pmin=[-1.61163526e-16 -6.55718147e-16],pmax=[28. 28.])\n",
      "DEBUG:commons.fs:Written 0.3MB to: out/4wayjoinedlane/drawing.html\n",
      "INFO:duckietown_world:Written SVG\n",
      " \u001B[2mfn_svg\u001B[0m: out/4wayjoinedlane/drawing.svg\n"
     ]
    },
    {
     "data": {
      "text/html": [
       "\n",
       "        <iframe\n",
       "            width=\"100%\"\n",
       "            height=\"600\"\n",
       "            src=\"out/4wayjoinedlane/drawing.html\"\n",
       "            frameborder=\"0\"\n",
       "            allowfullscreen\n",
       "        ></iframe>\n",
       "        "
      ],
      "text/plain": [
       "<IPython.lib.display.IFrame at 0x7fe63afa4310>"
      ]
     },
     "metadata": {},
     "output_type": "display_data"
    }
   ],
   "source": [
    "joined_lane_segments = skeleton_graph.root2\n",
    "\n",
    "dirname = d + \"4wayjoinedlane\"\n",
    "draw_object(joined_lane_segments, outdir=dirname)"
   ]
  },
  {
   "cell_type": "markdown",
   "metadata": {
    "pycharm": {
     "name": "#%% md\n"
    }
   },
   "source": [
    "### Get the graph of the topology"
   ]
  },
  {
   "cell_type": "code",
   "execution_count": 41,
   "metadata": {
    "pycharm": {
     "name": "#%%\n"
    }
   },
   "outputs": [],
   "source": [
    "topology_graph = skeleton_graph.G"
   ]
  },
  {
   "cell_type": "markdown",
   "metadata": {
    "pycharm": {
     "name": "#%% md\n"
    }
   },
   "source": [
    "### Draw the graph"
   ]
  },
  {
   "cell_type": "code",
   "execution_count": 42,
   "metadata": {
    "pycharm": {
     "name": "#%%\n"
    }
   },
   "outputs": [
    {
     "data": {
      "image/png": "[encoded data removed]",
      "text/plain": [
       "<Figure size 864x864 with 1 Axes>"
      ]
     },
     "metadata": {},
     "output_type": "display_data"
    }
   ],
   "source": [
    "pos = {}\n",
    "for n in topology_graph:\n",
    "    q = topology_graph.nodes[n]['point'].as_SE2()\n",
    "    t, _ = geo.translation_angle_from_SE2(q)\n",
    "    pos[n] = t\n",
    "draw_graph(topology_graph, pos=pos)"
   ]
  },
  {
   "cell_type": "markdown",
   "metadata": {
    "pycharm": {
     "name": "#%% md\n"
    }
   },
   "source": [
    "### Extract the shortest path from a start node to an end node as list"
   ]
  },
  {
   "cell_type": "code",
   "execution_count": 43,
   "metadata": {
    "pycharm": {
     "name": "#%%\n"
    }
   },
   "outputs": [
    {
     "name": "stdout",
     "output_type": "stream",
     "text": [
      "['ls070', 'ls059', 'ls022', 'ls014', 'ls008']\n"
     ]
    }
   ],
   "source": [
    "start = \"P38\"\n",
    "end = \"P9\"\n",
    "\n",
    "path = nx.shortest_path(topology_graph, start, end)\n",
    "\n",
    "def get_lanes(path, graph):\n",
    "    edges = zip(path[:-1], path[1:])\n",
    "    lanes =[]\n",
    "    for a, b in edges:\n",
    "        lane = graph.get_edge_data(a, b)[0]['lane']\n",
    "        lanes.append(lane)\n",
    "    return lanes\n",
    "\n",
    "lanes = get_lanes(path, topology_graph)\n",
    "print(lanes)"
   ]
  },
  {
   "cell_type": "markdown",
   "metadata": {},
   "source": [
    "### Extract the lane segments and draw them"
   ]
  },
  {
   "cell_type": "code",
   "execution_count": 44,
   "metadata": {
    "pycharm": {
     "name": "#%%\n"
    }
   },
   "outputs": [
    {
     "name": "stderr",
     "output_type": "stream",
     "text": [
      "INFO:duckietown_world: \u001B[2marea\u001B[0m: RectangularArea(pmin=[-1.61163526e-16 -8.05817629e-17],pmax=[20.94400026 20.94400026])\n",
      "DEBUG:commons.fs:Written 0.1MB to: out/extractedlane/drawing.html\n",
      "INFO:duckietown_world:Written SVG\n",
      " \u001B[2mfn_svg\u001B[0m: out/extractedlane/drawing.svg\n"
     ]
    },
    {
     "data": {
      "text/html": [
       "\n",
       "        <iframe\n",
       "            width=\"100%\"\n",
       "            height=\"600\"\n",
       "            src=\"out/extractedlane/drawing.html\"\n",
       "            frameborder=\"0\"\n",
       "            allowfullscreen\n",
       "        ></iframe>\n",
       "        "
      ],
      "text/plain": [
       "<IPython.lib.display.IFrame at 0x7fe63af27700>"
      ]
     },
     "metadata": {},
     "output_type": "display_data"
    }
   ],
   "source": [
    "lane_segments_to_follow = [joined_lane_segments.children[lane_name] for lane_name in lanes]\n",
    "\n",
    "lane_points = []\n",
    "po = dw.PlacedObject()\n",
    "for lane_name, lane in zip(lanes, lane_segments_to_follow):\n",
    "    po.set_object(lane_name, lane, ground_truth=dw.SE2Transform.identity())\n",
    "\n",
    "dirname = d + \"extractedlane\"\n",
    "draw_object(po, outdir = dirname)"
   ]
  },
  {
   "cell_type": "markdown",
   "metadata": {},
   "source": [
    "### Get the width of one of the lane segments"
   ]
  },
  {
   "cell_type": "code",
   "execution_count": 45,
   "metadata": {
    "pycharm": {
     "name": "#%%\n"
    }
   },
   "outputs": [],
   "source": [
    "width = lane_segments_to_follow[0].width"
   ]
  },
  {
   "cell_type": "markdown",
   "metadata": {},
   "source": [
    "### Merge the extracted lane segments to have one unified lane"
   ]
  },
  {
   "cell_type": "code",
   "execution_count": 46,
   "metadata": {
    "pycharm": {
     "name": "#%%\n"
    }
   },
   "outputs": [
    {
     "name": "stderr",
     "output_type": "stream",
     "text": [
      "INFO:duckietown_world: \u001B[2marea\u001B[0m: RectangularArea(pmin=[-1.61163526e-16 -8.05817629e-17],pmax=[20.92772921 20.93685631])\n",
      "DEBUG:commons.fs:Written 0.1MB to: out/unified_lane/drawing.html\n",
      "INFO:duckietown_world:Written SVG\n",
      " \u001B[2mfn_svg\u001B[0m: out/unified_lane/drawing.svg\n"
     ]
    },
    {
     "data": {
      "text/html": [
       "\n",
       "        <iframe\n",
       "            width=\"100%\"\n",
       "            height=\"600\"\n",
       "            src=\"out/unified_lane/drawing.html\"\n",
       "            frameborder=\"0\"\n",
       "            allowfullscreen\n",
       "        ></iframe>\n",
       "        "
      ],
      "text/plain": [
       "<IPython.lib.display.IFrame at 0x7fe6387a3d30>"
      ]
     },
     "metadata": {},
     "output_type": "display_data"
    }
   ],
   "source": [
    "import itertools as it\n",
    "\n",
    "# Make a list of all the control points, while making sure that the points that overlap are only taken once\n",
    "lane_segments_to_follow_control_points = list(\n",
    "    it.chain(\n",
    "        *[ls.control_points[:-1] if ls is not lane_segments_to_follow[-1]\n",
    "          else ls.control_points for ls in lane_segments_to_follow]\n",
    "    )\n",
    ")\n",
    "\n",
    "# Creating a unified lane segment\n",
    "lane_segments_to_follow_unified = dw.LaneSegment(\n",
    "    width=width, control_points=lane_segments_to_follow_control_points\n",
    ")\n",
    "\n",
    "# Draw the unified lane segment\n",
    "po = dw.PlacedObject()\n",
    "po.set_object(\"Unified Lane\", lane_segments_to_follow_unified, ground_truth=dw.SE2Transform.identity())\n",
    "dirname = d + \"unified_lane\"\n",
    "draw_object(po, outdir=dirname)"
   ]
  },
  {
   "cell_type": "markdown",
   "metadata": {},
   "source": [
    "### Check if the merged lane has the same total length as the sum of its parts"
   ]
  },
  {
   "cell_type": "code",
   "execution_count": 47,
   "metadata": {
    "pycharm": {
     "name": "#%%\n"
    }
   },
   "outputs": [],
   "source": [
    "sum_lane_lengths = sum([ln.get_lane_length() for ln in lane_segments_to_follow])\n",
    "sum_lane_segmenst_unified = lane_segments_to_follow_unified.get_lane_length()\n",
    "msg = f\"Lanes have not the same lenght: {sum_lane_lengths} is not {sum_lane_segmenst_unified}\"\n",
    "assert isclose(sum_lane_segmenst_unified , sum_lane_lengths, abs_tol=1e-5), msg"
   ]
  },
  {
   "cell_type": "markdown",
   "metadata": {},
   "source": [
    "### All of the above has been unified in one function"
   ]
  },
  {
   "cell_type": "code",
   "execution_count": 48,
   "metadata": {},
   "outputs": [
    {
     "name": "stderr",
     "output_type": "stream",
     "text": [
      "INFO:duckietown_world: \u001B[2marea\u001B[0m: RectangularArea(pmin=[-1.61163526e-16 -8.05817629e-17],pmax=[20.92772921 20.93685631])\n",
      "DEBUG:commons.fs:already up to date out/unified_lane/drawing.html\n",
      "INFO:duckietown_world:Written SVG\n",
      " \u001B[2mfn_svg\u001B[0m: out/unified_lane/drawing.svg\n"
     ]
    },
    {
     "data": {
      "text/html": [
       "\n",
       "        <iframe\n",
       "            width=\"100%\"\n",
       "            height=\"600\"\n",
       "            src=\"out/unified_lane/drawing.html\"\n",
       "            frameborder=\"0\"\n",
       "            allowfullscreen\n",
       "        ></iframe>\n",
       "        "
      ],
      "text/plain": [
       "<IPython.lib.display.IFrame at 0x7fe6389cd880>"
      ]
     },
     "metadata": {},
     "output_type": "display_data"
    }
   ],
   "source": [
    "lane_segments_to_follow_unified = get_lane_from_node_sequence(m=duckie_map, node_sequence=[start, end])\n",
    "\n",
    "# Draw the unified lane segment again\n",
    "po = dw.PlacedObject()\n",
    "po.set_object(\"Unified Lane\", lane_segments_to_follow_unified, ground_truth=dw.SE2Transform.identity())\n",
    "dirname = d + \"unified_lane\"\n",
    "draw_object(po, outdir=dirname)"
   ]
  },
  {
   "cell_type": "markdown",
   "metadata": {},
   "source": [
    "### It is also possible to give a longer node sequence (if nodes are skipped shortest path is computed)"
   ]
  },
  {
   "cell_type": "code",
   "execution_count": 49,
   "metadata": {
    "pycharm": {
     "name": "#%%\n"
    }
   },
   "outputs": [
    {
     "name": "stderr",
     "output_type": "stream",
     "text": [
      "INFO:duckietown_world: \u001B[2marea\u001B[0m: RectangularArea(pmin=[-1.61163526e-16 -8.05817629e-17],pmax=[20.93412724 20.93412701])\n",
      "DEBUG:commons.fs:Written 0.1MB to: out/unified_lane/drawing.html\n",
      "INFO:duckietown_world:Written SVG\n",
      " \u001B[2mfn_svg\u001B[0m: out/unified_lane/drawing.svg\n"
     ]
    },
    {
     "data": {
      "text/html": [
       "\n",
       "        <iframe\n",
       "            width=\"100%\"\n",
       "            height=\"600\"\n",
       "            src=\"out/unified_lane/drawing.html\"\n",
       "            frameborder=\"0\"\n",
       "            allowfullscreen\n",
       "        ></iframe>\n",
       "        "
      ],
      "text/plain": [
       "<IPython.lib.display.IFrame at 0x7fe638250dc0>"
      ]
     },
     "metadata": {},
     "output_type": "display_data"
    }
   ],
   "source": [
    "node_sequence = ['P38', 'P32', 'P9']\n",
    "lane_segments_to_follow_unified = get_lane_from_node_sequence(m=duckie_map, node_sequence=node_sequence)\n",
    "\n",
    "# Draw the unified lane segment again\n",
    "po = dw.PlacedObject()\n",
    "po.set_object(\"Unified Lane\", lane_segments_to_follow_unified, ground_truth=dw.SE2Transform.identity())\n",
    "dirname = d + \"unified_lane\"\n",
    "draw_object(po, outdir=dirname)"
   ]
  },
  {
   "cell_type": "markdown",
   "metadata": {},
   "source": [
    "### Get a person to follow the lane"
   ]
  },
  {
   "cell_type": "code",
   "execution_count": 50,
   "metadata": {
    "pycharm": {
     "name": "#%%\n"
    }
   },
   "outputs": [],
   "source": [
    "big_duckie = Person(width / 2)"
   ]
  },
  {
   "cell_type": "markdown",
   "metadata": {},
   "source": [
    "### Interpolate along the center line"
   ]
  },
  {
   "cell_type": "code",
   "execution_count": 51,
   "metadata": {
    "pycharm": {
     "name": "#%%\n"
    }
   },
   "outputs": [
    {
     "name": "stderr",
     "output_type": "stream",
     "text": [
      "INFO:duckietown_world: \u001B[2marea\u001B[0m: RectangularArea(pmin=[-1.316 -1.316],pmax=[28. 28.])\n",
      "DEBUG:commons.fs:Written 0.3MB to: out/lane_follow_unified/drawing.html\n",
      "INFO:duckietown_world:Written SVG\n",
      " \u001B[2mfn_svg\u001B[0m: out/lane_follow_unified/drawing.svg\n"
     ]
    },
    {
     "data": {
      "text/html": [
       "\n",
       "        <iframe\n",
       "            width=\"100%\"\n",
       "            height=\"600\"\n",
       "            src=\"out/lane_follow_unified/drawing.html\"\n",
       "            frameborder=\"0\"\n",
       "            allowfullscreen\n",
       "        ></iframe>\n",
       "        "
      ],
      "text/plain": [
       "<IPython.lib.display.IFrame at 0x7fe63823a640>"
      ]
     },
     "metadata": {},
     "output_type": "display_data"
    }
   ],
   "source": [
    "npoints = len(lane_segments_to_follow_unified.control_points) # get the control points of the lane\n",
    "points = 15\n",
    "betas = list(np.linspace(0, npoints-1, points))  # first control point beta=0, last control point beta=nbpoints-1\n",
    "\n",
    "transforms = []\n",
    "for beta in betas:\n",
    "    p = lane_segments_to_follow_unified.center_point(beta)  # get interpolated pose in SE(2)\n",
    "    transform = dw.SE2Transform.from_SE2(p)  # Transform to SE2Transform\n",
    "    transforms.append(transform)\n",
    "\n",
    "ground_truth = dw.SampledSequence[dw.SE2Transform](betas, transforms) # Setting the sequence for animation\n",
    "duckie_map_lanefollow = deepcopy(duckie_map)  # copy the map  to prevent adding objects to the \"original\" map\n",
    "duckie_map_lanefollow.set_object(\"Duckie\", big_duckie, ground_truth=ground_truth) # add a duckie with the sequence\n",
    "dirname = d + \"lane_follow_unified\"\n",
    "draw_object(duckie_map_lanefollow, outdir=dirname)"
   ]
  },
  {
   "cell_type": "markdown",
   "metadata": {},
   "source": [
    "### Define functions to interpolate along the centerlines when the position along the lane is known (in utils.py)"
   ]
  },
  {
   "cell_type": "code",
   "execution_count": 52,
   "metadata": {
    "pycharm": {
     "name": "#%% interpolate by velocity\n"
    }
   },
   "outputs": [],
   "source": [
    "from typing import List\n",
    "\n",
    "def interpolate_along_lane(lane: dw.LaneSegment, along_lane: float) -> dw.SE2Transform:\n",
    "    \"\"\" Input: lane and 1D position along the lane. Output: Pose on the duckietown map \"\"\"\n",
    "    dw_beta = lane.beta_from_along_lane(along_lane=along_lane)  # get the beta in in the dw representation\n",
    "    p = lane.center_point(dw_beta)  # get pose\n",
    "    transform = dw.SE2Transform.from_SE2(p)\n",
    "    return transform\n",
    "\n",
    "def interpolate_along_lane_n_points(\n",
    "    lane: dw.LaneSegment,\n",
    "    positions_along_lane: List[float]\n",
    ") -> List[dw.SE2Transform]:\n",
    "    \"\"\" Input: lane and sequence of 1D positions along the lane. Output: Pose sequence on the duckietown map \"\"\"\n",
    "    msg = f\"Positions={positions_along_lane} have to be in ascending order to follow a lane\"\n",
    "    assert all(map(isclose, sorted(positions_along_lane), positions_along_lane)), msg\n",
    "    transforms = [interpolate_along_lane(lane, along_lane) for along_lane in positions_along_lane]\n",
    "    return transforms"
   ]
  },
  {
   "cell_type": "markdown",
   "metadata": {
    "pycharm": {
     "name": "#%% md\n"
    }
   },
   "source": [
    "### Test functions"
   ]
  },
  {
   "cell_type": "code",
   "execution_count": 53,
   "metadata": {
    "pycharm": {
     "name": "#%%\n"
    }
   },
   "outputs": [
    {
     "name": "stderr",
     "output_type": "stream",
     "text": [
      "INFO:duckietown_world: \u001B[2marea\u001B[0m: RectangularArea(pmin=[-1.316 -1.316],pmax=[28. 28.])\n",
      "DEBUG:commons.fs:Written 0.7MB to: out/lane_follow_along_lane_interpolated/drawing.html\n",
      "INFO:duckietown_world:Written SVG\n",
      " \u001B[2mfn_svg\u001B[0m: out/lane_follow_along_lane_interpolated/drawing.svg\n"
     ]
    },
    {
     "data": {
      "text/html": [
       "\n",
       "        <iframe\n",
       "            width=\"100%\"\n",
       "            height=\"600\"\n",
       "            src=\"out/lane_follow_along_lane_interpolated/drawing.html\"\n",
       "            frameborder=\"0\"\n",
       "            allowfullscreen\n",
       "        ></iframe>\n",
       "        "
      ],
      "text/plain": [
       "<IPython.lib.display.IFrame at 0x7fe638250d00>"
      ]
     },
     "metadata": {},
     "output_type": "display_data"
    }
   ],
   "source": [
    "max_length = lane_segments_to_follow_unified.get_lane_length()  # get total length of the lane\n",
    "points = 100  # number of points to interpolate\n",
    "positions_along_lane = list(np.linspace(0, max_length, points))  # sequence of 1D position along the lane\n",
    "timestamps = range(points) # just number of points\n",
    "transforms = interpolate_along_lane_n_points(lane_segments_to_follow_unified, positions_along_lane)\n",
    "\n",
    "# Animation\n",
    "ground_truth = dw.SampledSequence[dw.SE2Transform](timestamps, transforms)\n",
    "duckie_map_lanefollow = deepcopy(duckie_map)\n",
    "duckie_map_lanefollow.set_object(\"Duckie\", big_duckie, ground_truth=ground_truth)\n",
    "dirname = d + \"lane_follow_along_lane_interpolated\"\n",
    "draw_object(duckie_map_lanefollow, outdir=dirname)"
   ]
  },
  {
   "cell_type": "markdown",
   "metadata": {},
   "source": [
    "### Define functions to interpolate along center line beta=0 start beta=1 end (in utils.py)"
   ]
  },
  {
   "cell_type": "code",
   "execution_count": 54,
   "metadata": {
    "pycharm": {
     "name": "#%%\n"
    }
   },
   "outputs": [],
   "source": [
    "def interpolate(lane: dw.LaneSegment, beta: float) -> dw.SE2Transform:\n",
    "    \"\"\" Interpolate along the centerline of a lane. Start: beta=0, End beta=1 \"\"\"\n",
    "    lane_length = lane.get_lane_length() # get the length of the lane\n",
    "    along_lane = beta * lane_length # get the corresponding position along the lane\n",
    "    transform = interpolate_along_lane(lane=lane, along_lane=along_lane)\n",
    "    return transform\n",
    "\n",
    "def interpolate_n_points(lane: dw.LaneSegment, betas: List[float]) -> List[dw.SE2Transform]:\n",
    "    \"\"\" Get pose sequence as a SE2Transform along the center line of a lane, beta=0 start beta=1 end \"\"\"\n",
    "    msg = f\"betas = {betas} have to be in ascending order to follow a lane\"\n",
    "    assert all(map(isclose, sorted(betas), betas)), msg  # check if values are ascending\n",
    "    transforms = [interpolate(lane, beta) for beta in betas]\n",
    "    return transforms\n"
   ]
  },
  {
   "cell_type": "markdown",
   "metadata": {},
   "source": [
    "### Test the functions"
   ]
  },
  {
   "cell_type": "code",
   "execution_count": 55,
   "metadata": {
    "pycharm": {
     "name": "#%%\n"
    }
   },
   "outputs": [
    {
     "name": "stderr",
     "output_type": "stream",
     "text": [
      "INFO:duckietown_world: \u001B[2marea\u001B[0m: RectangularArea(pmin=[-1.316 -1.316],pmax=[28. 28.])\n",
      "DEBUG:commons.fs:Written 0.5MB to: out/lane_follow_interpolated/drawing.html\n",
      "INFO:duckietown_world:Written SVG\n",
      " \u001B[2mfn_svg\u001B[0m: out/lane_follow_interpolated/drawing.svg\n"
     ]
    },
    {
     "data": {
      "text/html": [
       "\n",
       "        <iframe\n",
       "            width=\"100%\"\n",
       "            height=\"600\"\n",
       "            src=\"out/lane_follow_interpolated/drawing.html\"\n",
       "            frameborder=\"0\"\n",
       "            allowfullscreen\n",
       "        ></iframe>\n",
       "        "
      ],
      "text/plain": [
       "<IPython.lib.display.IFrame at 0x7fe6389cd250>"
      ]
     },
     "metadata": {},
     "output_type": "display_data"
    }
   ],
   "source": [
    "points = 60 # number of interpolation points\n",
    "betas = list(np.linspace(0,1,points))\n",
    "timestamps = range(points)\n",
    "transforms = interpolate_n_points(lane_segments_to_follow_unified, betas)  # get the pose sequence\n",
    "\n",
    "# Animation\n",
    "ground_truth = dw.SampledSequence[dw.SE2Transform](timestamps, transforms)\n",
    "duckie_map_lanefollow = deepcopy(duckie_map)\n",
    "duckie_map_lanefollow.set_object(\"Duckie\", big_duckie, ground_truth=ground_truth)\n",
    "dirname = d + \"lane_follow_interpolated\"\n",
    "draw_object(duckie_map_lanefollow, outdir=dirname)\n"
   ]
  },
  {
   "cell_type": "markdown",
   "metadata": {
    "pycharm": {
     "name": "#%% md\n"
    }
   },
   "source": [
    "## Collection of other useful functions\n",
    "\n",
    "### Sample some center line points of a lane (default 5 points)"
   ]
  },
  {
   "cell_type": "code",
   "execution_count": 23,
   "metadata": {
    "pycharm": {
     "name": "#%%\n"
    }
   },
   "outputs": [
    {
     "name": "stdout",
     "output_type": "stream",
     "text": [
      "[array([[ 2.83276934e-16, -1.00000000e+00,  2.56200008e+01],\n",
      "       [ 1.00000000e+00,  2.83276934e-16, -1.77635684e-15],\n",
      "       [ 0.00000000e+00,  0.00000000e+00,  1.00000000e+00]]), array([[ 2.83276934e-16, -1.00000000e+00,  2.56200008e+01],\n",
      "       [ 1.00000000e+00,  2.83276934e-16,  2.86363636e+00],\n",
      "       [ 0.00000000e+00,  0.00000000e+00,  1.00000000e+00]]), array([[ 2.83276934e-16, -1.00000000e+00,  2.56200008e+01],\n",
      "       [ 1.00000000e+00,  2.83276934e-16,  5.72727273e+00],\n",
      "       [ 0.00000000e+00,  0.00000000e+00,  1.00000000e+00]]), array([[ 2.83276934e-16, -1.00000000e+00,  2.56200008e+01],\n",
      "       [ 1.00000000e+00,  2.83276934e-16,  8.59090909e+00],\n",
      "       [ 0.00000000e+00,  0.00000000e+00,  1.00000000e+00]]), array([[ 2.83276934e-16, -1.00000000e+00,  2.56200008e+01],\n",
      "       [ 1.00000000e+00,  2.83276934e-16,  1.14545455e+01],\n",
      "       [ 0.00000000e+00,  0.00000000e+00,  1.00000000e+00]]), array([[ 6.12323426e-17, -1.00000000e+00,  2.56200008e+01],\n",
      "       [ 1.00000000e+00,  6.12323426e-17,  1.41641818e+01],\n",
      "       [ 0.00000000e+00,  0.00000000e+00,  1.00000000e+00]]), array([[ 6.12323426e-17, -1.00000000e+00,  2.56200008e+01],\n",
      "       [ 1.00000000e+00,  6.12323426e-17,  1.56418184e+01],\n",
      "       [ 0.00000000e+00,  0.00000000e+00,  1.00000000e+00]]), array([[ 6.12323426e-17, -1.00000000e+00,  2.56200008e+01],\n",
      "       [ 1.00000000e+00,  6.12323426e-17,  1.71194549e+01],\n",
      "       [ 0.00000000e+00,  0.00000000e+00,  1.00000000e+00]]), array([[ 6.12323426e-17, -1.00000000e+00,  2.56200008e+01],\n",
      "       [ 1.00000000e+00,  6.12323426e-17,  1.85970915e+01],\n",
      "       [ 0.00000000e+00,  0.00000000e+00,  1.00000000e+00]]), array([[ 6.12323426e-17, -1.00000000e+00,  2.56200008e+01],\n",
      "       [ 1.00000000e+00,  6.12323426e-17,  2.00747281e+01],\n",
      "       [ 0.00000000e+00,  0.00000000e+00,  1.00000000e+00]]), array([[-0.03569233, -0.99936283, 25.61876601],\n",
      "       [ 0.99936283, -0.03569233, 21.27079953],\n",
      "       [ 0.        ,  0.        ,  1.        ]]), array([[-0.19509033, -0.98078528, 25.59262098],\n",
      "       [ 0.98078528, -0.19509033, 21.47962091],\n",
      "       [ 0.        ,  0.        ,  1.        ]]), array([[-0.34946419, -0.93694972, 25.53340965],\n",
      "       [ 0.93694972, -0.34946419, 21.68157126],\n",
      "       [ 0.        ,  0.        ,  1.        ]]), array([[-0.49483835, -0.86898504, 25.44265686],\n",
      "       [ 0.86898504, -0.49483835, 21.8714498 ],\n",
      "       [ 0.        ,  0.        ,  1.        ]]), array([[-0.62746902, -0.77864153, 25.32269977],\n",
      "       [ 0.77864153, -0.62746902, 22.04436661],\n",
      "       [ 0.        ,  0.        ,  1.        ]]), array([[-0.74394055, -0.66824578, 25.17745154],\n",
      "       [ 0.66824578, -0.74394055, 22.19673795],\n",
      "       [ 0.        ,  0.        ,  1.        ]]), array([[-0.84125352, -0.5406408 , 25.01120285],\n",
      "       [ 0.5406408 , -0.84125352, 22.32577811],\n",
      "       [ 0.        ,  0.        ,  1.        ]]), array([[-0.91690182, -0.39911279, 24.82645365],\n",
      "       [ 0.39911279, -0.91690182, 22.42656364],\n",
      "       [ 0.        ,  0.        ,  1.        ]]), array([[-0.96893729, -0.24730648, 24.62796175],\n",
      "       [ 0.24730648, -0.96893729, 22.49649903],\n",
      "       [ 0.        ,  0.        ,  1.        ]]), array([[-0.99601987, -0.08913133, 24.42083889],\n",
      "       [ 0.08913133, -0.99601987, 22.53378323],\n",
      "       [ 0.        ,  0.        ,  1.        ]]), array([[-1.00000000e+00,  1.22464685e-16,  2.33672735e+01],\n",
      "       [-1.22464685e-16, -1.00000000e+00,  2.25400009e+01],\n",
      "       [ 0.00000000e+00,  0.00000000e+00,  1.00000000e+00]]), array([[-1.00000000e+00,  1.22464685e-16,  2.12596370e+01],\n",
      "       [-1.22464685e-16, -1.00000000e+00,  2.25400009e+01],\n",
      "       [ 0.00000000e+00,  0.00000000e+00,  1.00000000e+00]]), array([[-1.00000000e+00,  1.22464685e-16,  1.91520004e+01],\n",
      "       [-1.22464685e-16, -1.00000000e+00,  2.25400009e+01],\n",
      "       [ 0.00000000e+00,  0.00000000e+00,  1.00000000e+00]]), array([[-1.00000000e+00,  1.22464685e-16,  1.70443639e+01],\n",
      "       [-1.22464685e-16, -1.00000000e+00,  2.25400009e+01],\n",
      "       [ 0.00000000e+00,  0.00000000e+00,  1.00000000e+00]]), array([[-1.00000000e+00,  1.22464685e-16,  1.49367274e+01],\n",
      "       [-1.22464685e-16, -1.00000000e+00,  2.25400009e+01],\n",
      "       [ 0.00000000e+00,  0.00000000e+00,  1.00000000e+00]]), array([[-1.00000000e+00,  1.22464685e-16,  1.36022727e+01],\n",
      "       [-1.22464685e-16, -1.00000000e+00,  2.25400009e+01],\n",
      "       [ 0.00000000e+00,  0.00000000e+00,  1.00000000e+00]]), array([[-1.00000000e+00,  1.22464685e-16,  1.28863636e+01],\n",
      "       [-1.22464685e-16, -1.00000000e+00,  2.25400009e+01],\n",
      "       [ 0.00000000e+00,  0.00000000e+00,  1.00000000e+00]]), array([[-1.00000000e+00,  1.22464685e-16,  1.21704545e+01],\n",
      "       [-1.22464685e-16, -1.00000000e+00,  2.25400009e+01],\n",
      "       [ 0.00000000e+00,  0.00000000e+00,  1.00000000e+00]]), array([[-1.00000000e+00,  1.22464685e-16,  1.14545455e+01],\n",
      "       [-1.22464685e-16, -1.00000000e+00,  2.25400009e+01],\n",
      "       [ 0.00000000e+00,  0.00000000e+00,  1.00000000e+00]]), array([[-1.00000000e+00,  1.22464685e-16,  1.07386364e+01],\n",
      "       [-1.22464685e-16, -1.00000000e+00,  2.25400009e+01],\n",
      "       [ 0.00000000e+00,  0.00000000e+00,  1.00000000e+00]]), array([[-0.9942703 , -0.10689512,  9.96669663],\n",
      "       [ 0.10689512, -0.9942703 , 22.58026553],\n",
      "       [ 0.        ,  0.        ,  1.        ]]), array([[-0.96436877, -0.26456168,  9.18242975],\n",
      "       [ 0.26456168, -0.96436877, 22.7467966 ],\n",
      "       [ 0.        ,  0.        ,  1.        ]]), array([[-0.90963199, -0.41541502,  8.43489965],\n",
      "       [ 0.41541502, -0.90963199, 23.03663429],\n",
      "       [ 0.        ,  0.        ,  1.        ]]), array([[-0.8314696 , -0.55557025,  7.74335735],\n",
      "       [ 0.55557025, -0.8314696 , 23.44231446],\n",
      "       [ 0.        ,  0.        ,  1.        ]]), array([[-0.73189451, -0.68141795,  7.12561205],\n",
      "       [ 0.68141795, -0.73189451, 23.95338967],\n",
      "       [ 0.        ,  0.        ,  1.        ]]), array([[-0.78971719, -0.61347105,  6.54130143],\n",
      "       [ 0.61347105, -0.78971719, 24.50282959],\n",
      "       [ 0.        ,  0.        ,  1.        ]]), array([[-0.87767898, -0.47924897,  5.8804621 ],\n",
      "       [ 0.47924897, -0.87767898, 24.95681037],\n",
      "       [ 0.        ,  0.        ,  1.        ]]), array([[-0.94303804, -0.33268486,  5.15551348],\n",
      "       [ 0.33268486, -0.94303804, 25.29923798],\n",
      "       [ 0.        ,  0.        ,  1.        ]]), array([[-0.98411119, -0.17755318,  4.38512506],\n",
      "       [ 0.17755318, -0.98411119, 25.52129392],\n",
      "       [ 0.        ,  0.        ,  1.        ]]), array([[-9.99840677e-01, -1.78489887e-02,  3.58913652e+00],\n",
      "       [ 1.78489887e-02, -9.99840677e-01,  2.56172596e+01],\n",
      "       [ 0.00000000e+00,  0.00000000e+00,  1.00000000e+00]]), array([[-1.00000000e+00,  1.22464685e-16,  2.86363636e+00],\n",
      "       [-1.22464685e-16, -1.00000000e+00,  2.56200008e+01],\n",
      "       [ 0.00000000e+00,  0.00000000e+00,  1.00000000e+00]]), array([[-1.00000000e+00,  1.22464685e-16,  2.14772727e+00],\n",
      "       [-1.22464685e-16, -1.00000000e+00,  2.56200008e+01],\n",
      "       [ 0.00000000e+00,  0.00000000e+00,  1.00000000e+00]]), array([[-1.00000000e+00,  1.22464685e-16,  1.43181818e+00],\n",
      "       [-1.22464685e-16, -1.00000000e+00,  2.56200008e+01],\n",
      "       [ 0.00000000e+00,  0.00000000e+00,  1.00000000e+00]]), array([[-1.00000000e+00,  1.22464685e-16,  7.15909091e-01],\n",
      "       [-1.22464685e-16, -1.00000000e+00,  2.56200008e+01],\n",
      "       [ 0.00000000e+00,  0.00000000e+00,  1.00000000e+00]]), array([[-1.00000000e+00,  1.22464685e-16,  8.88178420e-16],\n",
      "       [-1.22464685e-16, -1.00000000e+00,  2.56200008e+01],\n",
      "       [ 0.00000000e+00,  0.00000000e+00,  1.00000000e+00]])]\n"
     ]
    }
   ],
   "source": [
    "lane_points = lane_segments_to_follow_unified.center_line_points()  # in SE(2)\n",
    "print(lane_points)"
   ]
  },
  {
   "cell_type": "markdown",
   "metadata": {
    "pycharm": {
     "name": "#%% md\n"
    }
   },
   "source": [
    "### Get the coordinates of the tile for a certain pose on the map"
   ]
  },
  {
   "cell_type": "code",
   "execution_count": 24,
   "metadata": {
    "pycharm": {
     "name": "#%%\n"
    }
   },
   "outputs": [
    {
     "name": "stdout",
     "output_type": "stream",
     "text": [
      "TileCoords(i=1,j=0,orientation=S)\n"
     ]
    }
   ],
   "source": [
    "q = lane_points[2]  # some pose\n",
    "tile_at_point = get_tile_at_point(duckie_map, q)\n",
    "print(tile_at_point)"
   ]
  },
  {
   "cell_type": "markdown",
   "metadata": {
    "pycharm": {
     "name": "#%% md\n"
    }
   },
   "source": [
    "### Get a collection of useful information for the pose in the map"
   ]
  },
  {
   "cell_type": "code",
   "execution_count": 25,
   "metadata": {
    "pycharm": {
     "name": "#%%\n"
    }
   },
   "outputs": [
    {
     "name": "stdout",
     "output_type": "stream",
     "text": [
      "[GetLanePoseResult(tile=Tile(children={'straight_double': PlacedObject(children={'lane1': LaneSegment(children={}, spatial_relations={}), 'lane2': LaneSegment(children={}, spatial_relations={}), 'lane3': LaneSegment(children={}, spatial_relations={}), 'lane4': LaneSegment(children={}, spatial_relations={}), 'lane5': LaneSegment(children={}, spatial_relations={}), 'lane6': LaneSegment(children={}, spatial_relations={}), 'lane7': LaneSegment(children={}, spatial_relations={}), 'lane8': LaneSegment(children={}, spatial_relations={})}, spatial_relations={'lane1': GroundTruth(() -> ('lane1',)  SE2Transform([0.0, 0.0],0.0)), 'lane2': GroundTruth(() -> ('lane2',)  SE2Transform([0.0, 0.0],0.0)), 'lane3': GroundTruth(() -> ('lane3',)  SE2Transform([0.0, 0.0],180.0)), 'lane4': GroundTruth(() -> ('lane4',)  SE2Transform([0.0, 0.0],180.0)), 'lane5': GroundTruth(() -> ('lane5',)  SE2Transform([0.0, 0.0],0.0)), 'lane6': GroundTruth(() -> ('lane6',)  SE2Transform([0.0, 0.0],0.0)), 'lane7': GroundTruth(() -> ('lane7',)  SE2Transform([0.0, 0.0],180.0)), 'lane8': GroundTruth(() -> ('lane8',)  SE2Transform([0.0, 0.0],180.0))})}, spatial_relations={1: GroundTruth(() -> ('straight_double',)  SE2Transform([0.0, 0.0],0.0))}), tile_fqn=('tilemap', 'tile-1-0'), tile_transform=TransformSequence([Scale2D(scale=14), TileCoords(i=1,j=0,orientation=S)]), tile_relative_pose=Matrix2D(m=[[-7.1428575e-02 -7.1128525e-18  9.0909071e-02]\n",
      " [ 7.1128525e-18 -7.1428575e-02  3.3000013e-01]\n",
      " [ 0.0000000e+00  0.0000000e+00  1.0000000e+00]]), lane_segment=LaneSegment(children={}, spatial_relations={}), lane_segment_fqn=('tilemap', 'tile-1-0', 'straight_double', 'lane3'), lane_pose=LanePose(inside=True,lateral_inside=True,outside_left=False,outside_right=False,lateral=-1.41752620586022e-07,lateral_left=0.094,lateral_right=-0.094,along_inside=True,along_before=False,along_after=False,along_lane=0.4090909273786981,relative_heading=2.288475738010615e-17,distance_from_left=0.09400014175262059,distance_from_right=0.09399985824737941,distance_from_center=1.41752620586022e-07,center_point=SE2Transform([-0.09090907262130188, -0.33000001311302185],0.0),correct_direction=True), lane_segment_relative_pose=Matrix2D(m=[[ 7.1428575e-02 -1.6346256e-18 -9.0909071e-02]\n",
      " [ 1.6346256e-18  7.1428575e-02 -3.3000013e-01]\n",
      " [ 0.0000000e+00  0.0000000e+00  1.0000000e+00]]), tile_coords=TileCoords(i=1,j=0,orientation=S), lane_segment_transform=TransformSequence([Scale2D(scale=14), TileCoords(i=1,j=0,orientation=S), SE2Transform([0.0, 0.0],0.0), SE2Transform([0.0, 0.0],180.0)]), center_point=Matrix2D(m=[[ 4.2862637e-15 -1.4000000e+01  2.5620001e+01]\n",
      " [ 1.4000000e+01  4.2862637e-15  5.7272730e+00]\n",
      " [ 0.0000000e+00  0.0000000e+00  1.0000000e+00]])), GetLanePoseResult(tile=Tile(children={'straight_double': PlacedObject(children={'lane1': LaneSegment(children={}, spatial_relations={}), 'lane2': LaneSegment(children={}, spatial_relations={}), 'lane3': LaneSegment(children={}, spatial_relations={}), 'lane4': LaneSegment(children={}, spatial_relations={}), 'lane5': LaneSegment(children={}, spatial_relations={}), 'lane6': LaneSegment(children={}, spatial_relations={}), 'lane7': LaneSegment(children={}, spatial_relations={}), 'lane8': LaneSegment(children={}, spatial_relations={})}, spatial_relations={'lane1': GroundTruth(() -> ('lane1',)  SE2Transform([0.0, 0.0],0.0)), 'lane2': GroundTruth(() -> ('lane2',)  SE2Transform([0.0, 0.0],0.0)), 'lane3': GroundTruth(() -> ('lane3',)  SE2Transform([0.0, 0.0],180.0)), 'lane4': GroundTruth(() -> ('lane4',)  SE2Transform([0.0, 0.0],180.0)), 'lane5': GroundTruth(() -> ('lane5',)  SE2Transform([0.0, 0.0],0.0)), 'lane6': GroundTruth(() -> ('lane6',)  SE2Transform([0.0, 0.0],0.0)), 'lane7': GroundTruth(() -> ('lane7',)  SE2Transform([0.0, 0.0],180.0)), 'lane8': GroundTruth(() -> ('lane8',)  SE2Transform([0.0, 0.0],180.0))})}, spatial_relations={1: GroundTruth(() -> ('straight_double',)  SE2Transform([0.0, 0.0],0.0))}), tile_fqn=('tilemap', 'tile-1-0'), tile_transform=TransformSequence([Scale2D(scale=14), TileCoords(i=1,j=0,orientation=S)]), tile_relative_pose=Matrix2D(m=[[-7.1428575e-02 -7.1128525e-18  9.0909071e-02]\n",
      " [ 7.1128525e-18 -7.1428575e-02  3.3000013e-01]\n",
      " [ 0.0000000e+00  0.0000000e+00  1.0000000e+00]]), lane_segment=LaneSegment(children={}, spatial_relations={}), lane_segment_fqn=('tilemap', 'tile-1-0', 'straight_double', 'lane7'), lane_pose=LanePose(inside=True,lateral_inside=True,outside_left=False,outside_right=False,lateral=-0.037019750488085756,lateral_left=0.094,lateral_right=-0.094,along_inside=True,along_before=False,along_after=False,along_lane=0.3990739019773959,relative_heading=-0.4177359710537773,distance_from_left=0.13101975048808576,distance_from_right=0.056980249511914244,distance_from_center=0.037019750488085756,center_point=SE2Transform([-0.10592765147479563, -0.296163708497566],23.9),correct_direction=True), lane_segment_relative_pose=Matrix2D(m=[[ 7.1428575e-02 -1.6346256e-18 -9.0909071e-02]\n",
      " [ 1.6346256e-18  7.1428575e-02 -3.3000013e-01]\n",
      " [ 0.0000000e+00  0.0000000e+00  1.0000000e+00]]), tile_coords=TileCoords(i=1,j=0,orientation=S), lane_segment_transform=TransformSequence([Scale2D(scale=14), TileCoords(i=1,j=0,orientation=S), SE2Transform([0.0, 0.0],0.0), SE2Transform([0.0, 0.0],180.0)]), center_point=Matrix2D(m=[[ -5.67969  -12.796137  25.146292]\n",
      " [ 12.796137  -5.67969    5.517013]\n",
      " [  0.         0.         1.      ]]))]\n"
     ]
    }
   ],
   "source": [
    "lane_poses = list(get_lane_poses(duckie_map, q))\n",
    "print(lane_poses)"
   ]
  },
  {
   "cell_type": "markdown",
   "metadata": {
    "pycharm": {
     "name": "#%% md\n"
    }
   },
   "source": [
    "### Get the evaluation of a simulated sequence"
   ]
  },
  {
   "cell_type": "code",
   "execution_count": 26,
   "metadata": {
    "pycharm": {
     "name": "#%%\n"
    }
   },
   "outputs": [
    {
     "name": "stdout",
     "output_type": "stream",
     "text": [
      "deviation-heading : RuleEvaluationResult(<duckietown_world.rules.in_drivable_lane.DeviationHeading object at 0x7fe638a4f9a0>, {(): EvaluatedMetric(Deviation from lane direction, 8.41138747774478e-06)})\n",
      "\n",
      "in-drivable-lane : RuleEvaluationResult(<duckietown_world.rules.in_drivable_lane.InDrivableLane object at 0x7fe638a4f730>, {(): EvaluatedMetric(Drivable areas, 0.0)})\n",
      "\n",
      "deviation-center-line : RuleEvaluationResult(<duckietown_world.rules.in_drivable_lane.DeviationFromCenterLine object at 0x7fe638a4f880>, {(): EvaluatedMetric(Deviation from center line, 7.725645922163071e-06)})\n",
      "\n",
      "driving-distance : RuleEvaluationResult(<duckietown_world.rules.in_drivable_lane.DrivenLength object at 0x7fe638a4fa00>, {('driven_any',): EvaluatedMetric(Distance, 48.397978255486734), ('driven_lanedir',): EvaluatedMetric(Lane distance, 48.322986323316464)})\n",
      "\n",
      "driving-distance-consecutive : RuleEvaluationResult(<duckietown_world.rules.in_drivable_lane.DrivenLengthConsecutive object at 0x7fe6388c7910>, {('driven_lanedir_consec',): EvaluatedMetric(Consecutive lane distance, 26.26015377215707)})\n",
      "\n",
      "survival_time : RuleEvaluationResult(<duckietown_world.rules.in_drivable_lane.SurvivalTime object at 0x7fe6388c7520>, {(): EvaluatedMetric(Survival time, 59.0)})\n",
      "\n"
     ]
    }
   ],
   "source": [
    "timestamps_as_floats = list(map(float, timestamps))  # timestamps have to be floats for it to work\n",
    "evaluated_rules = evaluate_rules(\n",
    "    poses_sequence=ground_truth,\n",
    "    interval=dw.SampledSequence[dw.Timestamp](timestamps_as_floats, timestamps_as_floats),\n",
    "    world=duckie_map,\n",
    "    ego_name=\"Duckie\"\n",
    ")\n",
    "for key, item in evaluated_rules.items():\n",
    "    print(f\"{key} : {item}\\n\")"
   ]
  },
  {
   "cell_type": "markdown",
   "metadata": {
    "pycharm": {
     "name": "#%% md\n"
    }
   },
   "source": [
    "### Get a LanePose for a certain pose with very detailed information\n",
    "\n",
    "Information about the \"position in the lane\"\n",
    "Am I inside the lane? If not why not?"
   ]
  },
  {
   "cell_type": "code",
   "execution_count": 27,
   "metadata": {
    "pycharm": {
     "name": "#%%\n"
    }
   },
   "outputs": [
    {
     "name": "stdout",
     "output_type": "stream",
     "text": [
      "LanePose(inside=True,lateral_inside=True,outside_left=False,outside_right=False,lateral=0.0,lateral_left=1.316,lateral_right=-1.316,along_inside=True,along_before=False,along_after=False,along_lane=5.729116293148218,relative_heading=0.0,distance_from_left=1.316,distance_from_right=1.316,distance_from_center=0.0,center_point=SE2Transform([25.620000839233402, 5.729116293148215],90.0),correct_direction=True)\n",
      "\n",
      "\n",
      "True\n",
      "\n",
      "\n",
      "True\n"
     ]
    }
   ],
   "source": [
    "lane_pose = lane_segments_to_follow_unified.lane_pose_from_SE2(q)\n",
    "print(lane_pose)\n",
    "print(\"\\n\")\n",
    "print(lane_pose.inside)\n",
    "print(\"\\n\")\n",
    "print(lane_pose.correct_direction)"
   ]
  }
 ],
 "metadata": {
  "kernelspec": {
   "display_name": "Python 3",
   "language": "python",
   "name": "python3"
  },
  "language_info": {
   "codemirror_mode": {
    "name": "ipython",
    "version": 3
   },
   "file_extension": ".py",
   "mimetype": "text/x-python",
   "name": "python",
   "nbconvert_exporter": "python",
   "pygments_lexer": "ipython3",
   "version": "3.8.5"
  }
 },
 "nbformat": 4,
 "nbformat_minor": 1
}